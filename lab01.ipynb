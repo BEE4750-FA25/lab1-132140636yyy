{
  "cells": [
    {
      "cell_type": "markdown",
      "id": "58533123-fddd-4aaa-a2ac-719fe58b215e",
      "metadata": {},
      "source": [
        "# BEE 4750 Lab 1: Julia and GitHub Basics\n",
        "\n",
        "**Name**: LIU Yingying\n",
        "\n",
        "**ID**: yl3984\n",
        "\n",
        "> **Due Date**\n",
        ">\n",
        "> Thursday, 8/28/25, 9:00pm\n",
        "\n",
        "## Setup\n",
        "\n",
        "The following code should go at the top of most Julia scripts; it will\n",
        "load the local package environment and install any needed packages. You\n",
        "will see this often and shouldn’t need to touch it."
      ]
    },
    {
      "cell_type": "code",
      "execution_count": null,
      "id": "2",
      "metadata": {},
      "outputs": [],
      "source": [
        "import Pkg\n",
        "Pkg.activate(\".\")\n",
        "Pkg.instantiate()"
      ]
    },
    {
      "cell_type": "markdown",
      "id": "0203cdac-c7c9-42dc-b719-a0dc73e8aff2",
      "metadata": {},
      "source": [
        "This next cell loads packages which are required for the rest of the\n",
        "code evaluation. In this case, we only need to load the `Plots.jl`\n",
        "plotting package, but you will see others over the course of the\n",
        "semester (and can add more if desired; just make sure that you’ve [added\n",
        "the new packages to the\n",
        "environment](https://viveks.me/environmental-systems-analysis/tutorials/julia-basics.html#package-management)).\n",
        "Standard Julia practice is to load all of the needed packages at the top\n",
        "of the file.\n",
        "\n",
        "> **Warning**\n",
        ">\n",
        "> Loading packages can take a while, especially the first time! Julia\n",
        "> tries to precompile all of the packages you’re using so repeat use is\n",
        "> faster, but this can be quite slow at first."
      ]
    },
    {
      "cell_type": "code",
      "execution_count": 3,
      "id": "4",
      "metadata": {},
      "outputs": [],
      "source": [
        "using Plots"
      ]
    },
    {
      "cell_type": "markdown",
      "id": "c182d07f-df95-4e65-a867-2f4557545d4c",
      "metadata": {},
      "source": [
        "## Introduction\n",
        "\n",
        "### Julia\n",
        "\n",
        "Julia is an up-and-coming language, originally developed for scientific\n",
        "programming. While learning a new programming language always has its\n",
        "hiccups, the good news is that if you’ve programmed in a high-level\n",
        "language such as Python or MATLAB, most Julia concepts should look\n",
        "familiar.\n",
        "\n",
        "If you have not successfully set up Julia, follow the instructions in\n",
        "[Tools\n",
        "Setup](https://viveks.me/environmental-systems-analysis/setup.html)\n",
        "and/or ask for help.\n",
        "\n",
        "You can use other editors for this course, but our recommendation is\n",
        "[Visual Studio Code](https://code.visualstudio.com/) with the [Julia\n",
        "extension](https://marketplace.visualstudio.com/items?itemName=julialang.language-julia),\n",
        "which will make life a *lot* simpler! You should have set this up by\n",
        "following the [Tools\n",
        "Setup](https://viveks.me/environmental-systems-analysis/setup.html)\n",
        "instructions, but if not, do so now and/or ask for help.\n",
        "\n",
        "### Jupyter Notebooks\n",
        "\n",
        "Jupyter notebooks integrate text and equations in Markdown with Julia\n",
        "(or Python, or R) code. To do this, Jupyter notebooks consist of two\n",
        "types of “cells”: code cells and Markdown (text) cells.\n",
        "\n",
        "Click once on this section of text. A box will appear around this text\n",
        "(and some areas above/below it) - all of that is within this cell.\n",
        "\n",
        "Markdown is a text markup framework for formatting language that makes\n",
        "things look pretty when viewed across different platforms: web browsers,\n",
        "notebooks, and so forth. Text written in Markdown can also include\n",
        "hyperlinks, LaTeX equations, section headers, and images, among other\n",
        "features (most of [the course\n",
        "website](https://viveks.me/climate-risk-analysis) and the lecture notes\n",
        "were all written in Markdown!). [Here is a basic Markdown cheat\n",
        "sheet](https://www.markdownguide.org/cheat-sheet/).\n",
        "\n",
        "What you are looking at right now is the formatted text after the\n",
        "Markdown is processed. To see the raw Markdown, do one of:\n",
        "\n",
        "-   press `Enter` while that cell is selected, or\n",
        "-   double-click on that cell.\n",
        "\n",
        "------------------------------------------------------------------------\n",
        "\n",
        "A couple of the features you will see in this Markdown cell:\n",
        "\n",
        "-   The `---` command creates a horizontal line. This is also nice for\n",
        "    separating sections.\n",
        "-   Backticks (`` `...` ``) can be used to format and highlight code,\n",
        "    keystrokes, etc.\n",
        "-   The `#` sign is used to create a new section header; two `#` signs\n",
        "    (`##`) is used to create a new subsection header; `###` creates a\n",
        "    subsubsection, and so on.\n",
        "-   You can create a bulleted list by using the asterisk `*` or a dash\n",
        "    `-` and a space.\n",
        "-   You can create regular text by just typing as usual.\n",
        "-   You can create **bold-faced text** by wrapping it with two asterisks\n",
        "    on both sides.\n",
        "-   You can create *italicized text* by wrapping it with a single\n",
        "    asterisk on both sides.\n",
        "-   To create a new paragraph, you must include a blank line between the\n",
        "    old and new paragraphs.\n",
        "\n",
        "At this point you might be wondering how to turn this cell back into the\n",
        "fully formatted Markdown text instead of the raw Markdown you’re\n",
        "probably still looking at. You have a couple of options, depending on\n",
        "your platform, but the most consistent is to type `Shift + Enter` to\n",
        "**execute** the cell (this is also how to run code, but more on that\n",
        "later).\n",
        "\n",
        "Additionally, you will frequently need to create new cells in your\n",
        "Jupyter notebooks. How you do this will depend on how you interact with\n",
        "the notebook, but try to figure this out now.\n",
        "\n",
        "One tip is to think carefully about what bits of code should be in the\n",
        "same cell, as you typically only see output from the last command in a\n",
        "cell. For example, compare the following:"
      ]
    },
    {
      "cell_type": "code",
      "execution_count": 4,
      "id": "6",
      "metadata": {},
      "outputs": [
        {
          "data": {
            "text/plain": [
              "-0.9589242746631385"
            ]
          },
          "metadata": {},
          "output_type": "display_data"
        }
      ],
      "source": [
        "x = 5\n",
        "sin(x)"
      ]
    },
    {
      "cell_type": "markdown",
      "id": "ace86dcf-64f6-400f-ba37-603faf43468f",
      "metadata": {},
      "source": [
        "with"
      ]
    },
    {
      "cell_type": "code",
      "execution_count": 5,
      "id": "8",
      "metadata": {},
      "outputs": [
        {
          "data": {
            "text/plain": [
              "5"
            ]
          },
          "metadata": {},
          "output_type": "display_data"
        }
      ],
      "source": [
        "x = 5"
      ]
    },
    {
      "cell_type": "code",
      "execution_count": 6,
      "id": "10",
      "metadata": {},
      "outputs": [
        {
          "data": {
            "text/plain": [
              "-0.9589242746631385"
            ]
          },
          "metadata": {},
          "output_type": "display_data"
        }
      ],
      "source": [
        "sin(x)"
      ]
    },
    {
      "cell_type": "markdown",
      "id": "4c41690e-f300-4518-8a4c-a5ee7460f331",
      "metadata": {},
      "source": [
        "In Julia, you can also suppress the output of a command with a\n",
        "semi-colon:"
      ]
    },
    {
      "cell_type": "code",
      "execution_count": 7,
      "id": "12",
      "metadata": {},
      "outputs": [],
      "source": [
        "sin(x);"
      ]
    },
    {
      "cell_type": "markdown",
      "id": "f44881f6-cec5-41fa-8c92-17d990fc3ad4",
      "metadata": {},
      "source": [
        "which can help if you want to split some code out for clarity or to\n",
        "insert some text prior to it, but don’t want to clutter the notebook\n",
        "with its output.\n",
        "\n",
        "For code cells, to execute the commands within the cell, we also press\n",
        "`Shift+Enter`.\n",
        "\n",
        "Finally, **make sure that you evaluate all of the code cells in order\n",
        "before submitting**. One bad outcome with notebooks occurs when cells\n",
        "are evaluated out of order, so fixed bugs and edits in previous cells do\n",
        "not get a chance to propagate down. You can do this with the `Run All`\n",
        "command in whichever interface you’re using to edit your notebook.\n",
        "\n",
        "### Julia Basics\n",
        "\n",
        "There are many tutorials and references for Julia, including a [basics\n",
        "overview on the class website](../tutorials/julia-basics.html). Please\n",
        "feel free to reference these as you work through any part of the course.\n",
        "\n",
        "### Formatting Math\n",
        "\n",
        "It will often be helpful to include nicely-formatted mathematics in a\n",
        "notebook. Markdown accomodates this using LaTeX syntax. A LaTeX\n",
        "cheatsheet is available on the class website, and many other guides\n",
        "exist online.\n",
        "\n",
        "Below is an example of a formatted equation: $$x = 5.$$\n",
        "\n",
        "### Looking For Help\n",
        "\n",
        "There is no shame in using Google, or other resources, for help when\n",
        "programming. There are many, many times when you can’t quite get the\n",
        "syntax to work, can’t quite figure out the right package or command to\n",
        "use, or are feeling too lazy or overwhelmed (I’m not judging either of\n",
        "those!) to dig through the documentation. Some good resources include:\n",
        "\n",
        "-   [Stack Overflow](https://stackoverflow.com/) is a treasure trove of\n",
        "    answers;\n",
        "-   The [official Julia forum](https://discourse.julialang.org/) and the\n",
        "    [Julia Subreddit](https://www.reddit.com/r/Julia/) are also very\n",
        "    useful.\n",
        "\n",
        "You are also highly encouraged to post on [Ed\n",
        "Discussion](https://us.edstem.org), though getting a response might be\n",
        "less immediate. Just be mindful that to get good answers, [you have to\n",
        "help people help you](https://stackoverflow.com/help/how-to-ask), and\n",
        "**make sure to give credit to any resources that were helpful**!\n",
        "\n",
        "## Exercises (3 points)\n",
        "\n",
        "Use your understanding of Julia syntax and the GitHub workflow to\n",
        "complete the following (hopefully short) exercises. Convert your\n",
        "completed lab assignment to a PDF and submit it to the Gradescope\n",
        "Assignment “Lab 1”.\n",
        "\n",
        "**Remember to**:\n",
        "\n",
        "-   Include a (succint but clear) writeup of the core idea underlying\n",
        "    your code, through some combination of equations, text, and\n",
        "    algorithms. As you are not required to submit your code, we will not\n",
        "    be looking at it in detail, and instead will rely on those writeups\n",
        "    to assess whether your approach is correct.\n",
        "-   If using the notebook, evaluate all of your code cells, in order\n",
        "    (using a `Run All` command). This will make sure all output is\n",
        "    visible and that the code cells were evaluated in the correct order.\n",
        "-   Tag each of the problems when you submit to Gradescope; a 10%\n",
        "    penalty will be deducted if this is not done.\n",
        "\n",
        "### Computing a Dot Product\n",
        "\n",
        "Given two numeric arrays `x` and `y`, write a function to compute their\n",
        "dot product if they have equal length, and return an error if not (this\n",
        "is useful for debugging!). Use the following code as a starting point.\n",
        "**Do not use a built-in function**."
      ]
    },
    {
      "cell_type": "code",
      "execution_count": 20,
      "id": "14",
      "metadata": {},
      "outputs": [
        {
          "data": {
            "text/plain": [
              "dot_product (generic function with 1 method)"
            ]
          },
          "metadata": {},
          "output_type": "display_data"
        }
      ],
      "source": [
        "function dot_product(x, y)\n",
        "    if length(x) == length(y) # insert test condition for equal lengths\n",
        "        println(\"same length for x and y\")\n",
        "        return sum(x .* y)\n",
        "        # compute and return dot product\n",
        "    else\n",
        "        throw(DimensionMismatch(\"length of x not equal to length of y\"))\n",
        "    end\n",
        "end"
      ]
    },
    {
      "cell_type": "markdown",
      "id": "d02d5988-4745-4080-8af7-f7d4cd42ae7d",
      "metadata": {},
      "source": [
        "Here are some tests to make sure your code works as intended. Tests like\n",
        "these are useful to make sure everything works as intended. One reason\n",
        "to split your code up into functions is that it makes it straightforward\n",
        "to write tests to make sure each piece of your code works, which makes\n",
        "it easier to identify where errors are occuring."
      ]
    },
    {
      "cell_type": "code",
      "execution_count": 21,
      "id": "16",
      "metadata": {},
      "outputs": [
        {
          "name": "stdout",
          "output_type": "stream",
          "text": [
            "same length for x and y\n"
          ]
        },
        {
          "data": {
            "text/plain": [
              "32"
            ]
          },
          "metadata": {},
          "output_type": "display_data"
        }
      ],
      "source": [
        "dot_product([1 2 3], [4 5 6])"
      ]
    },
    {
      "cell_type": "markdown",
      "id": "cb33ddec-3789-4c71-9f8c-14f6421df4ac",
      "metadata": {},
      "source": [
        "If you know the value you should get, you can write a more formal test\n",
        "using the `@assert` macro, which is a good way to “automate” checking\n",
        "(since you get an obvious error if the code doesn’t work as desired):"
      ]
    },
    {
      "cell_type": "code",
      "execution_count": 22,
      "id": "18",
      "metadata": {},
      "outputs": [
        {
          "name": "stdout",
          "output_type": "stream",
          "text": [
            "same length for x and y\n"
          ]
        }
      ],
      "source": [
        "@assert dot_product([1 2 3], [4 5 6]) == 32"
      ]
    },
    {
      "cell_type": "markdown",
      "id": "13a260fe-323e-4836-abed-7a97d5421d10",
      "metadata": {},
      "source": [
        "Let’s also make sure we get an error when the dimensions of the two\n",
        "vectors don’t match:"
      ]
    },
    {
      "cell_type": "code",
      "execution_count": null,
      "id": "20",
      "metadata": {},
      "outputs": [
        {
          "ename": "DimensionMismatch",
          "evalue": "DimensionMismatch: length of x not equal to length of y",
          "output_type": "error",
          "traceback": [
            "DimensionMismatch: length of x not equal to length of y\n",
            "\n",
            "Stacktrace:\n",
            " [1] dot_product(x::Matrix{Int64}, y::Matrix{Int64})\n",
            "   @ Main c:\\Users\\Lyy\\lab1-132140636yyy\\jl_notebook_cell_df34fa98e69747e1a8f8a730347b8e2f_X15sZmlsZQ==.jl:7\n",
            " [2] top-level scope\n",
            "   @ c:\\Users\\Lyy\\lab1-132140636yyy\\jl_notebook_cell_df34fa98e69747e1a8f8a730347b8e2f_X24sZmlsZQ==.jl:1"
          ]
        }
      ],
      "source": [
        "dot_product([1 2 3], [4 5])\n",
        "# when the length of x and y don't match, it will go to the else result and print \"DimensionMismatch\"."
      ]
    },
    {
      "cell_type": "markdown",
      "id": "d6656ccf-04db-4dad-b07d-dad7d7ca2be1",
      "metadata": {},
      "source": [
        "### Making a Plot\n",
        "\n",
        "Write a function to compute the square of an integer `x`. Evaluate this\n",
        "function for integers between $x=-5$ and $x=5$ and make a plot of the\n",
        "squared values (you can find a quick guide to making various types of\n",
        "plots\n",
        "[here](https://viveks.me/environmental-systems-analysis/tutorials/julia-plots.html)).\n",
        "Make sure to label your axes."
      ]
    },
    {
      "cell_type": "code",
      "execution_count": 24,
      "id": "22",
      "metadata": {},
      "outputs": [
        {
          "data": {
            "image/png": "[encoded data removed]",
            "image/svg+xml": [
              "<?xml version=\"1.0\" encoding=\"utf-8\"?>\n",
              "<svg xmlns=\"http://www.w3.org/2000/svg\" xmlns:xlink=\"http://www.w3.org/1999/xlink\" width=\"600\" height=\"400\" viewBox=\"0 0 2400 1600\">\n",
              "<defs>\n",
              "  <clipPath id=\"clip430\">\n",
              "    <rect x=\"0\" y=\"0\" width=\"2400\" height=\"1600\"/>\n",
              "  </clipPath>\n",
              "</defs>\n",
              "<path clip-path=\"url(#clip430)\" d=\"M0 1600 L2400 1600 L2400 0 L0 0  Z\" fill=\"#ffffff\" fill-rule=\"evenodd\" fill-opacity=\"1\"/>\n",
              "<defs>\n",
              "  <clipPath id=\"clip431\">\n",
              "    <rect x=\"480\" y=\"0\" width=\"1681\" height=\"1600\"/>\n",
              "  </clipPath>\n",
              "</defs>\n",
              "<path clip-path=\"url(#clip430)\" d=\"M203.964 1423.18 L2352.76 1423.18 L2352.76 123.472 L203.964 123.472  Z\" fill=\"#ffffff\" fill-rule=\"evenodd\" fill-opacity=\"1\"/>\n",
              "<defs>\n",
              "  <clipPath id=\"clip432\">\n",
              "    <rect x=\"203\" y=\"123\" width=\"2150\" height=\"1301\"/>\n",
              "  </clipPath>\n",
              "</defs>\n",
              "<polyline clip-path=\"url(#clip432)\" style=\"stroke:#000000; stroke-linecap:round; stroke-linejoin:round; stroke-width:2; stroke-opacity:0.1; fill:none\" points=\"467.495,1423.18 467.495,123.472 \"/>\n",
              "<polyline clip-path=\"url(#clip432)\" style=\"stroke:#000000; stroke-linecap:round; stroke-linejoin:round; stroke-width:2; stroke-opacity:0.1; fill:none\" points=\"872.927,1423.18 872.927,123.472 \"/>\n",
              "<polyline clip-path=\"url(#clip432)\" style=\"stroke:#000000; stroke-linecap:round; stroke-linejoin:round; stroke-width:2; stroke-opacity:0.1; fill:none\" points=\"1278.36,1423.18 1278.36,123.472 \"/>\n",
              "<polyline clip-path=\"url(#clip432)\" style=\"stroke:#000000; stroke-linecap:round; stroke-linejoin:round; stroke-width:2; stroke-opacity:0.1; fill:none\" points=\"1683.79,1423.18 1683.79,123.472 \"/>\n",
              "<polyline clip-path=\"url(#clip432)\" style=\"stroke:#000000; stroke-linecap:round; stroke-linejoin:round; stroke-width:2; stroke-opacity:0.1; fill:none\" points=\"2089.22,1423.18 2089.22,123.472 \"/>\n",
              "<polyline clip-path=\"url(#clip432)\" style=\"stroke:#000000; stroke-linecap:round; stroke-linejoin:round; stroke-width:2; stroke-opacity:0.1; fill:none\" points=\"203.964,1386.4 2352.76,1386.4 \"/>\n",
              "<polyline clip-path=\"url(#clip432)\" style=\"stroke:#000000; stroke-linecap:round; stroke-linejoin:round; stroke-width:2; stroke-opacity:0.1; fill:none\" points=\"203.964,1141.17 2352.76,1141.17 \"/>\n",
              "<polyline clip-path=\"url(#clip432)\" style=\"stroke:#000000; stroke-linecap:round; stroke-linejoin:round; stroke-width:2; stroke-opacity:0.1; fill:none\" points=\"203.964,895.94 2352.76,895.94 \"/>\n",
              "<polyline clip-path=\"url(#clip432)\" style=\"stroke:#000000; stroke-linecap:round; stroke-linejoin:round; stroke-width:2; stroke-opacity:0.1; fill:none\" points=\"203.964,650.712 2352.76,650.712 \"/>\n",
              "<polyline clip-path=\"url(#clip432)\" style=\"stroke:#000000; stroke-linecap:round; stroke-linejoin:round; stroke-width:2; stroke-opacity:0.1; fill:none\" points=\"203.964,405.484 2352.76,405.484 \"/>\n",
              "<polyline clip-path=\"url(#clip432)\" style=\"stroke:#000000; stroke-linecap:round; stroke-linejoin:round; stroke-width:2; stroke-opacity:0.1; fill:none\" points=\"203.964,160.256 2352.76,160.256 \"/>\n",
              "<polyline clip-path=\"url(#clip430)\" style=\"stroke:#000000; stroke-linecap:round; stroke-linejoin:round; stroke-width:4; stroke-opacity:1; fill:none\" points=\"203.964,1423.18 2352.76,1423.18 \"/>\n",
              "<polyline clip-path=\"url(#clip430)\" style=\"stroke:#000000; stroke-linecap:round; stroke-linejoin:round; stroke-width:4; stroke-opacity:1; fill:none\" points=\"467.495,1423.18 467.495,1404.28 \"/>\n",
              "<polyline clip-path=\"url(#clip430)\" style=\"stroke:#000000; stroke-linecap:round; stroke-linejoin:round; stroke-width:4; stroke-opacity:1; fill:none\" points=\"872.927,1423.18 872.927,1404.28 \"/>\n",
              "<polyline clip-path=\"url(#clip430)\" style=\"stroke:#000000; stroke-linecap:round; stroke-linejoin:round; stroke-width:4; stroke-opacity:1; fill:none\" points=\"1278.36,1423.18 1278.36,1404.28 \"/>\n",
              "<polyline clip-path=\"url(#clip430)\" style=\"stroke:#000000; stroke-linecap:round; stroke-linejoin:round; stroke-width:4; stroke-opacity:1; fill:none\" points=\"1683.79,1423.18 1683.79,1404.28 \"/>\n",
              "<polyline clip-path=\"url(#clip430)\" style=\"stroke:#000000; stroke-linecap:round; stroke-linejoin:round; stroke-width:4; stroke-opacity:1; fill:none\" points=\"2089.22,1423.18 2089.22,1404.28 \"/>\n",
              "<path clip-path=\"url(#clip430)\" d=\"M436.395 1468.75 L466.071 1468.75 L466.071 1472.69 L436.395 1472.69 L436.395 1468.75 Z\" fill=\"#000000\" fill-rule=\"nonzero\" fill-opacity=\"1\" /><path clip-path=\"url(#clip430)\" d=\"M489.011 1455.09 L477.205 1473.54 L489.011 1473.54 L489.011 1455.09 M487.784 1451.02 L493.664 1451.02 L493.664 1473.54 L498.594 1473.54 L498.594 1477.43 L493.664 1477.43 L493.664 1485.58 L489.011 1485.58 L489.011 1477.43 L473.409 1477.43 L473.409 1472.92 L487.784 1451.02 Z\" fill=\"#000000\" fill-rule=\"nonzero\" fill-opacity=\"1\" /><path clip-path=\"url(#clip430)\" d=\"M842.87 1468.75 L872.545 1468.75 L872.545 1472.69 L842.87 1472.69 L842.87 1468.75 Z\" fill=\"#000000\" fill-rule=\"nonzero\" fill-opacity=\"1\" /><path clip-path=\"url(#clip430)\" d=\"M886.666 1481.64 L902.985 1481.64 L902.985 1485.58 L881.041 1485.58 L881.041 1481.64 Q883.703 1478.89 888.286 1474.26 Q892.892 1469.61 894.073 1468.27 Q896.318 1465.74 897.198 1464.01 Q898.101 1462.25 898.101 1460.56 Q898.101 1457.8 896.156 1456.07 Q894.235 1454.33 891.133 1454.33 Q888.934 1454.33 886.48 1455.09 Q884.05 1455.86 881.272 1457.41 L881.272 1452.69 Q884.096 1451.55 886.55 1450.97 Q889.004 1450.39 891.041 1450.39 Q896.411 1450.39 899.605 1453.08 Q902.8 1455.77 902.8 1460.26 Q902.8 1462.39 901.99 1464.31 Q901.203 1466.2 899.096 1468.8 Q898.517 1469.47 895.416 1472.69 Q892.314 1475.88 886.666 1481.64 Z\" fill=\"#000000\" fill-rule=\"nonzero\" fill-opacity=\"1\" /><path clip-path=\"url(#clip430)\" d=\"M1278.36 1454.1 Q1274.75 1454.1 1272.92 1457.66 Q1271.11 1461.2 1271.11 1468.33 Q1271.11 1475.44 1272.92 1479.01 Q1274.75 1482.55 1278.36 1482.55 Q1281.99 1482.55 1283.8 1479.01 Q1285.63 1475.44 1285.63 1468.33 Q1285.63 1461.2 1283.8 1457.66 Q1281.99 1454.1 1278.36 1454.1 M1278.36 1450.39 Q1284.17 1450.39 1287.23 1455 Q1290.3 1459.58 1290.3 1468.33 Q1290.3 1477.06 1287.23 1481.67 Q1284.17 1486.25 1278.36 1486.25 Q1272.55 1486.25 1269.47 1481.67 Q1266.42 1477.06 1266.42 1468.33 Q1266.42 1459.58 1269.47 1455 Q1272.55 1450.39 1278.36 1450.39 Z\" fill=\"#000000\" fill-rule=\"nonzero\" fill-opacity=\"1\" /><path clip-path=\"url(#clip430)\" d=\"M1678.45 1481.64 L1694.76 1481.64 L1694.76 1485.58 L1672.82 1485.58 L1672.82 1481.64 Q1675.48 1478.89 1680.07 1474.26 Q1684.67 1469.61 1685.85 1468.27 Q1688.1 1465.74 1688.98 1464.01 Q1689.88 1462.25 1689.88 1460.56 Q1689.88 1457.8 1687.94 1456.07 Q1686.01 1454.33 1682.91 1454.33 Q1680.71 1454.33 1678.26 1455.09 Q1675.83 1455.86 1673.05 1457.41 L1673.05 1452.69 Q1675.88 1451.55 1678.33 1450.97 Q1680.78 1450.39 1682.82 1450.39 Q1688.19 1450.39 1691.38 1453.08 Q1694.58 1455.77 1694.58 1460.26 Q1694.58 1462.39 1693.77 1464.31 Q1692.98 1466.2 1690.88 1468.8 Q1690.3 1469.47 1687.2 1472.69 Q1684.09 1475.88 1678.45 1481.64 Z\" fill=\"#000000\" fill-rule=\"nonzero\" fill-opacity=\"1\" /><path clip-path=\"url(#clip430)\" d=\"M2092.23 1455.09 L2080.43 1473.54 L2092.23 1473.54 L2092.23 1455.09 M2091.01 1451.02 L2096.89 1451.02 L2096.89 1473.54 L2101.82 1473.54 L2101.82 1477.43 L2096.89 1477.43 L2096.89 1485.58 L2092.23 1485.58 L2092.23 1477.43 L2076.63 1477.43 L2076.63 1472.92 L2091.01 1451.02 Z\" fill=\"#000000\" fill-rule=\"nonzero\" fill-opacity=\"1\" /><path clip-path=\"url(#clip430)\" d=\"M1294.97 1532.4 L1282.08 1549.74 L1295.64 1568.04 L1288.74 1568.04 L1278.36 1554.04 L1267.98 1568.04 L1261.08 1568.04 L1274.92 1549.39 L1262.25 1532.4 L1269.16 1532.4 L1278.61 1545.1 L1288.07 1532.4 L1294.97 1532.4 Z\" fill=\"#000000\" fill-rule=\"nonzero\" fill-opacity=\"1\" /><polyline clip-path=\"url(#clip430)\" style=\"stroke:#000000; stroke-linecap:round; stroke-linejoin:round; stroke-width:4; stroke-opacity:1; fill:none\" points=\"203.964,1423.18 203.964,123.472 \"/>\n",
              "<polyline clip-path=\"url(#clip430)\" style=\"stroke:#000000; stroke-linecap:round; stroke-linejoin:round; stroke-width:4; stroke-opacity:1; fill:none\" points=\"203.964,1386.4 222.861,1386.4 \"/>\n",
              "<polyline clip-path=\"url(#clip430)\" style=\"stroke:#000000; stroke-linecap:round; stroke-linejoin:round; stroke-width:4; stroke-opacity:1; fill:none\" points=\"203.964,1141.17 222.861,1141.17 \"/>\n",
              "<polyline clip-path=\"url(#clip430)\" style=\"stroke:#000000; stroke-linecap:round; stroke-linejoin:round; stroke-width:4; stroke-opacity:1; fill:none\" points=\"203.964,895.94 222.861,895.94 \"/>\n",
              "<polyline clip-path=\"url(#clip430)\" style=\"stroke:#000000; stroke-linecap:round; stroke-linejoin:round; stroke-width:4; stroke-opacity:1; fill:none\" points=\"203.964,650.712 222.861,650.712 \"/>\n",
              "<polyline clip-path=\"url(#clip430)\" style=\"stroke:#000000; stroke-linecap:round; stroke-linejoin:round; stroke-width:4; stroke-opacity:1; fill:none\" points=\"203.964,405.484 222.861,405.484 \"/>\n",
              "<polyline clip-path=\"url(#clip430)\" style=\"stroke:#000000; stroke-linecap:round; stroke-linejoin:round; stroke-width:4; stroke-opacity:1; fill:none\" points=\"203.964,160.256 222.861,160.256 \"/>\n",
              "<path clip-path=\"url(#clip430)\" d=\"M156.019 1372.19 Q152.408 1372.19 150.579 1375.76 Q148.774 1379.3 148.774 1386.43 Q148.774 1393.54 150.579 1397.1 Q152.408 1400.64 156.019 1400.64 Q159.653 1400.64 161.459 1397.1 Q163.288 1393.54 163.288 1386.43 Q163.288 1379.3 161.459 1375.76 Q159.653 1372.19 156.019 1372.19 M156.019 1368.49 Q161.829 1368.49 164.885 1373.1 Q167.964 1377.68 167.964 1386.43 Q167.964 1395.16 164.885 1399.76 Q161.829 1404.35 156.019 1404.35 Q150.209 1404.35 147.13 1399.76 Q144.075 1395.16 144.075 1386.43 Q144.075 1377.68 147.13 1373.1 Q150.209 1368.49 156.019 1368.49 Z\" fill=\"#000000\" fill-rule=\"nonzero\" fill-opacity=\"1\" /><path clip-path=\"url(#clip430)\" d=\"M147.061 1123.89 L165.417 1123.89 L165.417 1127.82 L151.343 1127.82 L151.343 1136.3 Q152.362 1135.95 153.38 1135.79 Q154.399 1135.6 155.417 1135.6 Q161.204 1135.6 164.584 1138.77 Q167.964 1141.94 167.964 1147.36 Q167.964 1152.94 164.491 1156.04 Q161.019 1159.12 154.7 1159.12 Q152.524 1159.12 150.255 1158.75 Q148.01 1158.38 145.603 1157.64 L145.603 1152.94 Q147.686 1154.07 149.908 1154.63 Q152.13 1155.18 154.607 1155.18 Q158.612 1155.18 160.95 1153.08 Q163.288 1150.97 163.288 1147.36 Q163.288 1143.75 160.95 1141.64 Q158.612 1139.54 154.607 1139.54 Q152.732 1139.54 150.857 1139.95 Q149.005 1140.37 147.061 1141.25 L147.061 1123.89 Z\" fill=\"#000000\" fill-rule=\"nonzero\" fill-opacity=\"1\" /><path clip-path=\"url(#clip430)\" d=\"M116.668 909.285 L124.306 909.285 L124.306 882.919 L115.996 884.586 L115.996 880.327 L124.26 878.66 L128.936 878.66 L128.936 909.285 L136.575 909.285 L136.575 913.22 L116.668 913.22 L116.668 909.285 Z\" fill=\"#000000\" fill-rule=\"nonzero\" fill-opacity=\"1\" /><path clip-path=\"url(#clip430)\" d=\"M156.019 881.739 Q152.408 881.739 150.579 885.303 Q148.774 888.845 148.774 895.975 Q148.774 903.081 150.579 906.646 Q152.408 910.188 156.019 910.188 Q159.653 910.188 161.459 906.646 Q163.288 903.081 163.288 895.975 Q163.288 888.845 161.459 885.303 Q159.653 881.739 156.019 881.739 M156.019 878.035 Q161.829 878.035 164.885 882.641 Q167.964 887.225 167.964 895.975 Q167.964 904.701 164.885 909.308 Q161.829 913.891 156.019 913.891 Q150.209 913.891 147.13 909.308 Q144.075 904.701 144.075 895.975 Q144.075 887.225 147.13 882.641 Q150.209 878.035 156.019 878.035 Z\" fill=\"#000000\" fill-rule=\"nonzero\" fill-opacity=\"1\" /><path clip-path=\"url(#clip430)\" d=\"M117.663 664.057 L125.302 664.057 L125.302 637.691 L116.992 639.358 L116.992 635.099 L125.255 633.432 L129.931 633.432 L129.931 664.057 L137.57 664.057 L137.57 667.992 L117.663 667.992 L117.663 664.057 Z\" fill=\"#000000\" fill-rule=\"nonzero\" fill-opacity=\"1\" /><path clip-path=\"url(#clip430)\" d=\"M147.061 633.432 L165.417 633.432 L165.417 637.367 L151.343 637.367 L151.343 645.839 Q152.362 645.492 153.38 645.33 Q154.399 645.145 155.417 645.145 Q161.204 645.145 164.584 648.316 Q167.964 651.488 167.964 656.904 Q167.964 662.483 164.491 665.585 Q161.019 668.663 154.7 668.663 Q152.524 668.663 150.255 668.293 Q148.01 667.923 145.603 667.182 L145.603 662.483 Q147.686 663.617 149.908 664.173 Q152.13 664.728 154.607 664.728 Q158.612 664.728 160.95 662.622 Q163.288 660.515 163.288 656.904 Q163.288 653.293 160.95 651.187 Q158.612 649.08 154.607 649.08 Q152.732 649.08 150.857 649.497 Q149.005 649.913 147.061 650.793 L147.061 633.432 Z\" fill=\"#000000\" fill-rule=\"nonzero\" fill-opacity=\"1\" /><path clip-path=\"url(#clip430)\" d=\"M119.885 418.829 L136.204 418.829 L136.204 422.764 L114.26 422.764 L114.26 418.829 Q116.922 416.074 121.505 411.445 Q126.112 406.792 127.292 405.449 Q129.538 402.926 130.417 401.19 Q131.32 399.431 131.32 397.741 Q131.32 394.987 129.376 393.25 Q127.455 391.514 124.353 391.514 Q122.154 391.514 119.7 392.278 Q117.269 393.042 114.492 394.593 L114.492 389.871 Q117.316 388.737 119.769 388.158 Q122.223 387.579 124.26 387.579 Q129.63 387.579 132.825 390.264 Q136.019 392.95 136.019 397.44 Q136.019 399.57 135.209 401.491 Q134.422 403.389 132.316 405.982 Q131.737 406.653 128.635 409.871 Q125.533 413.065 119.885 418.829 Z\" fill=\"#000000\" fill-rule=\"nonzero\" fill-opacity=\"1\" /><path clip-path=\"url(#clip430)\" d=\"M156.019 391.283 Q152.408 391.283 150.579 394.848 Q148.774 398.389 148.774 405.519 Q148.774 412.625 150.579 416.19 Q152.408 419.732 156.019 419.732 Q159.653 419.732 161.459 416.19 Q163.288 412.625 163.288 405.519 Q163.288 398.389 161.459 394.848 Q159.653 391.283 156.019 391.283 M156.019 387.579 Q161.829 387.579 164.885 392.186 Q167.964 396.769 167.964 405.519 Q167.964 414.246 164.885 418.852 Q161.829 423.435 156.019 423.435 Q150.209 423.435 147.13 418.852 Q144.075 414.246 144.075 405.519 Q144.075 396.769 147.13 392.186 Q150.209 387.579 156.019 387.579 Z\" fill=\"#000000\" fill-rule=\"nonzero\" fill-opacity=\"1\" /><path clip-path=\"url(#clip430)\" d=\"M120.88 173.601 L137.2 173.601 L137.2 177.536 L115.256 177.536 L115.256 173.601 Q117.918 170.847 122.501 166.217 Q127.107 161.564 128.288 160.222 Q130.533 157.698 131.413 155.962 Q132.316 154.203 132.316 152.513 Q132.316 149.759 130.371 148.023 Q128.45 146.286 125.348 146.286 Q123.149 146.286 120.695 147.05 Q118.265 147.814 115.487 149.365 L115.487 144.643 Q118.311 143.509 120.765 142.93 Q123.218 142.351 125.255 142.351 Q130.626 142.351 133.82 145.036 Q137.015 147.722 137.015 152.212 Q137.015 154.342 136.204 156.263 Q135.417 158.161 133.311 160.754 Q132.732 161.425 129.63 164.643 Q126.529 167.837 120.88 173.601 Z\" fill=\"#000000\" fill-rule=\"nonzero\" fill-opacity=\"1\" /><path clip-path=\"url(#clip430)\" d=\"M147.061 142.976 L165.417 142.976 L165.417 146.911 L151.343 146.911 L151.343 155.384 Q152.362 155.036 153.38 154.874 Q154.399 154.689 155.417 154.689 Q161.204 154.689 164.584 157.86 Q167.964 161.032 167.964 166.448 Q167.964 172.027 164.491 175.129 Q161.019 178.208 154.7 178.208 Q152.524 178.208 150.255 177.837 Q148.01 177.467 145.603 176.726 L145.603 172.027 Q147.686 173.161 149.908 173.717 Q152.13 174.272 154.607 174.272 Q158.612 174.272 160.95 172.166 Q163.288 170.059 163.288 166.448 Q163.288 162.837 160.95 160.731 Q158.612 158.624 154.607 158.624 Q152.732 158.624 150.857 159.041 Q149.005 159.458 147.061 160.337 L147.061 142.976 Z\" fill=\"#000000\" fill-rule=\"nonzero\" fill-opacity=\"1\" /><path clip-path=\"url(#clip430)\" d=\"M28.3562 896.9 L45.7028 909.791 L64.0042 896.232 L64.0042 903.139 L49.9996 913.515 L64.0042 923.891 L64.0042 930.798 L45.3526 916.952 L28.3562 929.62 L28.3562 922.713 L41.0558 913.26 L28.3562 903.807 L28.3562 896.9 Z\" fill=\"#000000\" fill-rule=\"nonzero\" fill-opacity=\"1\" /><path clip-path=\"url(#clip430)\" d=\"M29.4065 844.51 L34.9447 844.51 Q33.6716 846.993 33.035 849.667 Q32.3984 852.34 32.3984 855.205 Q32.3984 859.565 33.7352 861.762 Q35.072 863.926 37.7456 863.926 Q39.7826 863.926 40.9603 862.366 Q42.1061 860.807 43.1565 856.096 L43.6021 854.091 Q44.9389 847.852 47.3897 845.243 Q49.8086 842.601 54.1691 842.601 Q59.1344 842.601 62.0308 846.548 Q64.9272 850.462 64.9272 857.337 Q64.9272 860.202 64.3543 863.321 Q63.8132 866.409 62.6992 869.846 L56.6518 869.846 Q58.3387 866.6 59.198 863.448 Q60.0256 860.297 60.0256 857.21 Q60.0256 853.072 58.6251 850.844 Q57.1929 848.616 54.6147 848.616 Q52.2276 848.616 50.9545 850.24 Q49.6813 851.831 48.5037 857.274 L48.0262 859.311 Q46.8804 864.753 44.5251 867.172 Q42.138 869.591 38.0002 869.591 Q32.9713 869.591 30.2341 866.027 Q27.4968 862.462 27.4968 855.905 Q27.4968 852.659 27.9743 849.794 Q28.4517 846.929 29.4065 844.51 Z\" fill=\"#000000\" fill-rule=\"nonzero\" fill-opacity=\"1\" /><path clip-path=\"url(#clip430)\" d=\"M46.212 829.774 Q52.6732 829.774 56.3653 827.132 Q60.0256 824.459 60.0256 819.812 Q60.0256 815.165 56.3653 812.491 Q52.6732 809.817 46.212 809.817 Q39.7508 809.817 36.0905 812.491 Q32.3984 815.165 32.3984 819.812 Q32.3984 824.459 36.0905 827.132 Q39.7508 829.774 46.212 829.774 M58.657 809.817 Q61.8398 811.663 63.3994 814.496 Q64.9272 817.297 64.9272 821.244 Q64.9272 827.705 59.771 831.779 Q54.6147 835.821 46.212 835.821 Q37.8093 835.821 32.6531 831.779 Q27.4968 827.705 27.4968 821.244 Q27.4968 817.297 29.0564 814.496 Q30.5842 811.663 33.7671 809.817 L28.3562 809.817 L28.3562 803.961 L77.5631 803.961 L77.5631 809.817 L58.657 809.817 Z\" fill=\"#000000\" fill-rule=\"nonzero\" fill-opacity=\"1\" /><path clip-path=\"url(#clip430)\" d=\"M49.9359 792.503 L28.3562 792.503 L28.3562 786.646 L49.7131 786.646 Q54.7739 786.646 57.3202 784.673 Q59.8346 782.699 59.8346 778.753 Q59.8346 774.01 56.8109 771.273 Q53.7872 768.504 48.5673 768.504 L28.3562 768.504 L28.3562 762.648 L64.0042 762.648 L64.0042 768.504 L58.5296 768.504 Q61.7762 770.636 63.3676 773.469 Q64.9272 776.27 64.9272 779.994 Q64.9272 786.137 61.1078 789.32 Q57.2883 792.503 49.9359 792.503 M27.4968 777.766 L27.4968 777.766 Z\" fill=\"#000000\" fill-rule=\"nonzero\" fill-opacity=\"1\" /><path clip-path=\"url(#clip430)\" d=\"M46.0847 734.384 Q46.0847 741.482 47.7079 744.219 Q49.3312 746.956 53.2461 746.956 Q56.3653 746.956 58.2114 744.919 Q60.0256 742.85 60.0256 739.317 Q60.0256 734.447 56.5881 731.519 Q53.1188 728.559 47.3897 728.559 L46.0847 728.559 L46.0847 734.384 M43.6657 722.703 L64.0042 722.703 L64.0042 728.559 L58.5933 728.559 Q61.8398 730.564 63.3994 733.556 Q64.9272 736.548 64.9272 740.877 Q64.9272 746.351 61.8716 749.598 Q58.7843 752.812 53.6281 752.812 Q47.6125 752.812 44.5569 748.802 Q41.5014 744.76 41.5014 736.771 L41.5014 728.559 L40.9285 728.559 Q36.8862 728.559 34.6901 731.233 Q32.4621 733.875 32.4621 738.681 Q32.4621 741.736 33.1941 744.633 Q33.9262 747.529 35.3903 750.203 L29.9795 750.203 Q28.7381 746.988 28.1334 743.964 Q27.4968 740.94 27.4968 738.076 Q27.4968 730.342 31.5072 726.522 Q35.5176 722.703 43.6657 722.703 Z\" fill=\"#000000\" fill-rule=\"nonzero\" fill-opacity=\"1\" /><path clip-path=\"url(#clip430)\" d=\"M33.8307 689.983 Q33.2578 690.97 33.0032 692.147 Q32.7167 693.293 32.7167 694.694 Q32.7167 699.659 35.9632 702.332 Q39.1779 704.974 45.2253 704.974 L64.0042 704.974 L64.0042 710.862 L28.3562 710.862 L28.3562 704.974 L33.8944 704.974 Q30.6479 703.128 29.0883 700.168 Q27.4968 697.208 27.4968 692.975 Q27.4968 692.37 27.5923 691.638 Q27.656 690.906 27.8151 690.015 L33.8307 689.983 Z\" fill=\"#000000\" fill-rule=\"nonzero\" fill-opacity=\"1\" /><path clip-path=\"url(#clip430)\" d=\"M44.7161 654.781 L47.5806 654.781 L47.5806 681.708 Q53.6281 681.326 56.8109 678.079 Q59.9619 674.801 59.9619 668.976 Q59.9619 665.602 59.1344 662.451 Q58.3069 659.268 56.6518 656.149 L62.1899 656.149 Q63.5267 659.3 64.227 662.61 Q64.9272 665.921 64.9272 669.326 Q64.9272 677.856 59.9619 682.853 Q54.9967 687.819 46.5303 687.819 Q37.7774 687.819 32.6531 683.108 Q27.4968 678.366 27.4968 670.345 Q27.4968 663.152 32.1438 658.982 Q36.7589 654.781 44.7161 654.781 M42.9973 660.637 Q38.1912 660.701 35.3266 663.342 Q32.4621 665.952 32.4621 670.281 Q32.4621 675.183 35.2312 678.143 Q38.0002 681.071 43.0292 681.517 L42.9973 660.637 Z\" fill=\"#000000\" fill-rule=\"nonzero\" fill-opacity=\"1\" /><path clip-path=\"url(#clip430)\" d=\"M33.7671 621.711 L14.479 621.711 L14.479 615.854 L64.0042 615.854 L64.0042 621.711 L58.657 621.711 Q61.8398 623.557 63.3994 626.39 Q64.9272 629.19 64.9272 633.137 Q64.9272 639.598 59.771 643.672 Q54.6147 647.715 46.212 647.715 Q37.8093 647.715 32.6531 643.672 Q27.4968 639.598 27.4968 633.137 Q27.4968 629.19 29.0564 626.39 Q30.5842 623.557 33.7671 621.711 M46.212 641.667 Q52.6732 641.667 56.3653 639.025 Q60.0256 636.352 60.0256 631.705 Q60.0256 627.058 56.3653 624.384 Q52.6732 621.711 46.212 621.711 Q39.7508 621.711 36.0905 624.384 Q32.3984 627.058 32.3984 631.705 Q32.3984 636.352 36.0905 639.025 Q39.7508 641.667 46.212 641.667 Z\" fill=\"#000000\" fill-rule=\"nonzero\" fill-opacity=\"1\" /><path clip-path=\"url(#clip430)\" d=\"M681.763 14.0809 L681.763 22.0612 Q677.104 19.8332 672.972 18.7395 Q668.84 17.6457 664.992 17.6457 Q658.308 17.6457 654.662 20.2383 Q651.057 22.8309 651.057 27.611 Q651.057 31.6214 653.447 33.6873 Q655.878 35.7128 662.602 36.9686 L667.544 37.9813 Q676.699 39.7232 681.034 44.1387 Q685.409 48.5136 685.409 55.8863 Q685.409 64.6767 679.494 69.2137 Q673.621 73.7508 662.237 73.7508 Q657.944 73.7508 653.082 72.7785 Q648.262 71.8063 643.077 69.9024 L643.077 61.4765 Q648.059 64.2716 652.839 65.6895 Q657.619 67.1073 662.237 67.1073 Q669.246 67.1073 673.053 64.3527 Q676.861 61.598 676.861 56.4939 Q676.861 52.0379 674.107 49.5264 Q671.393 47.0148 665.154 45.759 L660.172 44.7868 Q651.016 42.9639 646.925 39.075 Q642.834 35.1862 642.834 28.2591 Q642.834 20.2383 648.464 15.6203 Q654.136 11.0023 664.06 11.0023 Q668.314 11.0023 672.729 11.7719 Q677.145 12.5416 681.763 14.0809 Z\" fill=\"#000000\" fill-rule=\"nonzero\" fill-opacity=\"1\" /><path clip-path=\"url(#clip430)\" d=\"M702.301 49.9314 Q702.301 58.1548 705.663 62.8538 Q709.066 67.5124 714.98 67.5124 Q720.895 67.5124 724.297 62.8538 Q727.7 58.1548 727.7 49.9314 Q727.7 41.7081 724.297 37.0496 Q720.895 32.3505 714.98 32.3505 Q709.066 32.3505 705.663 37.0496 Q702.301 41.7081 702.301 49.9314 M727.7 65.7705 Q725.351 69.8214 721.745 71.8063 Q718.18 73.7508 713.157 73.7508 Q704.934 73.7508 699.749 67.1883 Q694.604 60.6258 694.604 49.9314 Q694.604 39.2371 699.749 32.6746 Q704.934 26.1121 713.157 26.1121 Q718.18 26.1121 721.745 28.0971 Q725.351 30.0415 727.7 34.0924 L727.7 27.2059 L735.154 27.2059 L735.154 89.8329 L727.7 89.8329 L727.7 65.7705 Z\" fill=\"#000000\" fill-rule=\"nonzero\" fill-opacity=\"1\" /><path clip-path=\"url(#clip430)\" d=\"M749.737 54.671 L749.737 27.2059 L757.191 27.2059 L757.191 54.3874 Q757.191 60.8284 759.702 64.0691 Q762.214 67.2693 767.237 67.2693 Q773.273 67.2693 776.757 63.421 Q780.281 59.5726 780.281 52.9291 L780.281 27.2059 L787.734 27.2059 L787.734 72.576 L780.281 72.576 L780.281 65.6084 Q777.567 69.7404 773.961 71.7658 Q770.397 73.7508 765.657 73.7508 Q757.839 73.7508 753.788 68.8897 Q749.737 64.0286 749.737 54.671 M768.493 26.1121 L768.493 26.1121 Z\" fill=\"#000000\" fill-rule=\"nonzero\" fill-opacity=\"1\" /><path clip-path=\"url(#clip430)\" d=\"M823.707 49.7694 Q814.673 49.7694 811.189 51.8354 Q807.705 53.9013 807.705 58.8839 Q807.705 62.8538 810.298 65.2034 Q812.931 67.5124 817.428 67.5124 Q823.625 67.5124 827.352 63.1374 Q831.12 58.7219 831.12 51.4303 L831.12 49.7694 L823.707 49.7694 M838.573 46.6907 L838.573 72.576 L831.12 72.576 L831.12 65.6895 Q828.568 69.8214 824.76 71.8063 Q820.952 73.7508 815.443 73.7508 Q808.475 73.7508 804.343 69.8619 Q800.252 65.9325 800.252 59.3701 Q800.252 51.7138 805.356 47.825 Q810.501 43.9361 820.668 43.9361 L831.12 43.9361 L831.12 43.2069 Q831.12 38.0623 827.717 35.2672 Q824.355 32.4315 818.238 32.4315 Q814.349 32.4315 810.663 33.3632 Q806.976 34.295 803.574 36.1584 L803.574 29.2718 Q807.665 27.692 811.513 26.9223 Q815.362 26.1121 819.007 26.1121 Q828.851 26.1121 833.712 31.2163 Q838.573 36.3204 838.573 46.6907 Z\" fill=\"#000000\" fill-rule=\"nonzero\" fill-opacity=\"1\" /><path clip-path=\"url(#clip430)\" d=\"M880.217 34.1734 Q878.961 33.4443 877.462 33.1202 Q876.004 32.7556 874.221 32.7556 Q867.902 32.7556 864.499 36.8875 Q861.137 40.9789 861.137 48.6757 L861.137 72.576 L853.643 72.576 L853.643 27.2059 L861.137 27.2059 L861.137 34.2544 Q863.486 30.1225 867.254 28.1376 Q871.021 26.1121 876.409 26.1121 Q877.178 26.1121 878.11 26.2337 Q879.042 26.3147 880.176 26.5172 L880.217 34.1734 Z\" fill=\"#000000\" fill-rule=\"nonzero\" fill-opacity=\"1\" /><path clip-path=\"url(#clip430)\" d=\"M925.02 48.0275 L925.02 51.6733 L890.749 51.6733 Q891.235 59.3701 895.367 63.421 Q899.539 67.4314 906.953 67.4314 Q911.247 67.4314 915.257 66.3781 Q919.308 65.3249 923.278 63.2184 L923.278 70.267 Q919.267 71.9684 915.054 72.8596 Q910.841 73.7508 906.507 73.7508 Q895.651 73.7508 889.291 67.4314 Q882.971 61.1119 882.971 50.3365 Q882.971 39.1965 888.967 32.6746 Q895.002 26.1121 905.211 26.1121 Q914.366 26.1121 919.672 32.0264 Q925.02 37.9003 925.02 48.0275 M917.566 45.84 Q917.485 39.7232 914.123 36.0774 Q910.801 32.4315 905.292 32.4315 Q899.053 32.4315 895.286 35.9558 Q891.559 39.4801 890.992 45.8805 L917.566 45.84 Z\" fill=\"#000000\" fill-rule=\"nonzero\" fill-opacity=\"1\" /><path clip-path=\"url(#clip430)\" d=\"M981.206 32.4315 Q975.21 32.4315 971.727 37.1306 Q968.243 41.7891 968.243 49.9314 Q968.243 58.0738 971.686 62.7728 Q975.17 67.4314 981.206 67.4314 Q987.16 67.4314 990.644 62.7323 Q994.128 58.0333 994.128 49.9314 Q994.128 41.8701 990.644 37.1711 Q987.16 32.4315 981.206 32.4315 M981.206 26.1121 Q990.928 26.1121 996.478 32.4315 Q1002.03 38.7509 1002.03 49.9314 Q1002.03 61.0714 996.478 67.4314 Q990.928 73.7508 981.206 73.7508 Q971.443 73.7508 965.893 67.4314 Q960.384 61.0714 960.384 49.9314 Q960.384 38.7509 965.893 32.4315 Q971.443 26.1121 981.206 26.1121 Z\" fill=\"#000000\" fill-rule=\"nonzero\" fill-opacity=\"1\" /><path clip-path=\"url(#clip430)\" d=\"M1037.35 9.54393 L1037.35 15.7418 L1030.22 15.7418 Q1026.21 15.7418 1024.63 17.3622 Q1023.09 18.9825 1023.09 23.1955 L1023.09 27.2059 L1035.37 27.2059 L1035.37 32.9987 L1023.09 32.9987 L1023.09 72.576 L1015.6 72.576 L1015.6 32.9987 L1008.47 32.9987 L1008.47 27.2059 L1015.6 27.2059 L1015.6 24.0462 Q1015.6 16.471 1019.12 13.0277 Q1022.65 9.54393 1030.3 9.54393 L1037.35 9.54393 Z\" fill=\"#000000\" fill-rule=\"nonzero\" fill-opacity=\"1\" /><path clip-path=\"url(#clip430)\" d=\"M1070.29 12.096 L1078.47 12.096 L1078.47 72.576 L1070.29 72.576 L1070.29 12.096 Z\" fill=\"#000000\" fill-rule=\"nonzero\" fill-opacity=\"1\" /><path clip-path=\"url(#clip430)\" d=\"M1132.14 45.1919 L1132.14 72.576 L1124.69 72.576 L1124.69 45.4349 Q1124.69 38.994 1122.18 35.7938 Q1119.67 32.5936 1114.64 32.5936 Q1108.61 32.5936 1105.12 36.4419 Q1101.64 40.2903 1101.64 46.9338 L1101.64 72.576 L1094.14 72.576 L1094.14 27.2059 L1101.64 27.2059 L1101.64 34.2544 Q1104.31 30.163 1107.92 28.1376 Q1111.56 26.1121 1116.3 26.1121 Q1124.12 26.1121 1128.13 30.9732 Q1132.14 35.7938 1132.14 45.1919 Z\" fill=\"#000000\" fill-rule=\"nonzero\" fill-opacity=\"1\" /><path clip-path=\"url(#clip430)\" d=\"M1154.38 14.324 L1154.38 27.2059 L1169.73 27.2059 L1169.73 32.9987 L1154.38 32.9987 L1154.38 57.6282 Q1154.38 63.1779 1155.88 64.7578 Q1157.42 66.3376 1162.08 66.3376 L1169.73 66.3376 L1169.73 72.576 L1162.08 72.576 Q1153.45 72.576 1150.17 69.3758 Q1146.89 66.1351 1146.89 57.6282 L1146.89 32.9987 L1141.42 32.9987 L1141.42 27.2059 L1146.89 27.2059 L1146.89 14.324 L1154.38 14.324 Z\" fill=\"#000000\" fill-rule=\"nonzero\" fill-opacity=\"1\" /><path clip-path=\"url(#clip430)\" d=\"M1218.35 48.0275 L1218.35 51.6733 L1184.07 51.6733 Q1184.56 59.3701 1188.69 63.421 Q1192.87 67.4314 1200.28 67.4314 Q1204.57 67.4314 1208.58 66.3781 Q1212.63 65.3249 1216.6 63.2184 L1216.6 70.267 Q1212.59 71.9684 1208.38 72.8596 Q1204.17 73.7508 1199.83 73.7508 Q1188.98 73.7508 1182.62 67.4314 Q1176.3 61.1119 1176.3 50.3365 Q1176.3 39.1965 1182.29 32.6746 Q1188.33 26.1121 1198.54 26.1121 Q1207.69 26.1121 1213 32.0264 Q1218.35 37.9003 1218.35 48.0275 M1210.89 45.84 Q1210.81 39.7232 1207.45 36.0774 Q1204.13 32.4315 1198.62 32.4315 Q1192.38 32.4315 1188.61 35.9558 Q1184.89 39.4801 1184.32 45.8805 L1210.89 45.84 Z\" fill=\"#000000\" fill-rule=\"nonzero\" fill-opacity=\"1\" /><path clip-path=\"url(#clip430)\" d=\"M1260.43 49.3643 Q1260.43 41.2625 1257.07 36.8065 Q1253.75 32.3505 1247.71 32.3505 Q1241.72 32.3505 1238.36 36.8065 Q1235.04 41.2625 1235.04 49.3643 Q1235.04 57.4256 1238.36 61.8816 Q1241.72 66.3376 1247.71 66.3376 Q1253.75 66.3376 1257.07 61.8816 Q1260.43 57.4256 1260.43 49.3643 M1267.89 66.9452 Q1267.89 78.5308 1262.74 84.1616 Q1257.6 89.8329 1246.99 89.8329 Q1243.06 89.8329 1239.57 89.2252 Q1236.09 88.6581 1232.81 87.4428 L1232.81 80.1917 Q1236.09 81.9741 1239.29 82.8248 Q1242.49 83.6755 1245.81 83.6755 Q1253.14 83.6755 1256.79 79.8271 Q1260.43 76.0193 1260.43 68.282 L1260.43 64.5957 Q1258.13 68.6061 1254.52 70.5911 Q1250.91 72.576 1245.89 72.576 Q1237.55 72.576 1232.44 66.2161 Q1227.34 59.8562 1227.34 49.3643 Q1227.34 38.832 1232.44 32.472 Q1237.55 26.1121 1245.89 26.1121 Q1250.91 26.1121 1254.52 28.0971 Q1258.13 30.082 1260.43 34.0924 L1260.43 27.2059 L1267.89 27.2059 L1267.89 66.9452 Z\" fill=\"#000000\" fill-rule=\"nonzero\" fill-opacity=\"1\" /><path clip-path=\"url(#clip430)\" d=\"M1322.05 48.0275 L1322.05 51.6733 L1287.78 51.6733 Q1288.26 59.3701 1292.4 63.421 Q1296.57 67.4314 1303.98 67.4314 Q1308.28 67.4314 1312.29 66.3781 Q1316.34 65.3249 1320.31 63.2184 L1320.31 70.267 Q1316.3 71.9684 1312.08 72.8596 Q1307.87 73.7508 1303.54 73.7508 Q1292.68 73.7508 1286.32 67.4314 Q1280 61.1119 1280 50.3365 Q1280 39.1965 1286 32.6746 Q1292.03 26.1121 1302.24 26.1121 Q1311.39 26.1121 1316.7 32.0264 Q1322.05 37.9003 1322.05 48.0275 M1314.6 45.84 Q1314.51 39.7232 1311.15 36.0774 Q1307.83 32.4315 1302.32 32.4315 Q1296.08 32.4315 1292.32 35.9558 Q1288.59 39.4801 1288.02 45.8805 L1314.6 45.84 Z\" fill=\"#000000\" fill-rule=\"nonzero\" fill-opacity=\"1\" /><path clip-path=\"url(#clip430)\" d=\"M1360.57 34.1734 Q1359.32 33.4443 1357.82 33.1202 Q1356.36 32.7556 1354.58 32.7556 Q1348.26 32.7556 1344.86 36.8875 Q1341.49 40.9789 1341.49 48.6757 L1341.49 72.576 L1334 72.576 L1334 27.2059 L1341.49 27.2059 L1341.49 34.2544 Q1343.84 30.1225 1347.61 28.1376 Q1351.38 26.1121 1356.76 26.1121 Q1357.53 26.1121 1358.47 26.2337 Q1359.4 26.3147 1360.53 26.5172 L1360.57 34.1734 Z\" fill=\"#000000\" fill-rule=\"nonzero\" fill-opacity=\"1\" /><path clip-path=\"url(#clip430)\" d=\"M1397.31 28.5427 L1397.31 35.5912 Q1394.15 33.9709 1390.75 33.1607 Q1387.35 32.3505 1383.7 32.3505 Q1378.15 32.3505 1375.36 34.0519 Q1372.6 35.7533 1372.6 39.156 Q1372.6 41.7486 1374.59 43.2475 Q1376.57 44.7058 1382.57 46.0426 L1385.12 46.6097 Q1393.06 48.3111 1396.38 51.4303 Q1399.75 54.509 1399.75 60.0587 Q1399.75 66.3781 1394.72 70.0644 Q1389.74 73.7508 1380.99 73.7508 Q1377.34 73.7508 1373.37 73.0216 Q1369.44 72.3329 1365.07 70.9151 L1365.07 63.2184 Q1369.2 65.3654 1373.21 66.4591 Q1377.22 67.5124 1381.15 67.5124 Q1386.42 67.5124 1389.25 65.73 Q1392.09 63.9071 1392.09 60.6258 Q1392.09 57.5877 1390.02 55.9673 Q1388 54.3469 1381.07 52.8481 L1378.48 52.2405 Q1371.55 50.7821 1368.47 47.7845 Q1365.39 44.7463 1365.39 39.4801 Q1365.39 33.0797 1369.93 29.5959 Q1374.47 26.1121 1382.81 26.1121 Q1386.94 26.1121 1390.59 26.7198 Q1394.24 27.3274 1397.31 28.5427 Z\" fill=\"#000000\" fill-rule=\"nonzero\" fill-opacity=\"1\" /><path clip-path=\"url(#clip430)\" d=\"M1460.95 9.54393 L1460.95 15.7418 L1453.82 15.7418 Q1449.81 15.7418 1448.23 17.3622 Q1446.7 18.9825 1446.7 23.1955 L1446.7 27.2059 L1458.97 27.2059 L1458.97 32.9987 L1446.7 32.9987 L1446.7 72.576 L1439.2 72.576 L1439.2 32.9987 L1432.07 32.9987 L1432.07 27.2059 L1439.2 27.2059 L1439.2 24.0462 Q1439.2 16.471 1442.73 13.0277 Q1446.25 9.54393 1453.91 9.54393 L1460.95 9.54393 Z\" fill=\"#000000\" fill-rule=\"nonzero\" fill-opacity=\"1\" /><path clip-path=\"url(#clip430)\" d=\"M1493.48 34.1734 Q1492.23 33.4443 1490.73 33.1202 Q1489.27 32.7556 1487.49 32.7556 Q1481.17 32.7556 1477.77 36.8875 Q1474.4 40.9789 1474.4 48.6757 L1474.4 72.576 L1466.91 72.576 L1466.91 27.2059 L1474.4 27.2059 L1474.4 34.2544 Q1476.75 30.1225 1480.52 28.1376 Q1484.29 26.1121 1489.68 26.1121 Q1490.44 26.1121 1491.38 26.2337 Q1492.31 26.3147 1493.44 26.5172 L1493.48 34.1734 Z\" fill=\"#000000\" fill-rule=\"nonzero\" fill-opacity=\"1\" /><path clip-path=\"url(#clip430)\" d=\"M1517.06 32.4315 Q1511.06 32.4315 1507.58 37.1306 Q1504.1 41.7891 1504.1 49.9314 Q1504.1 58.0738 1507.54 62.7728 Q1511.02 67.4314 1517.06 67.4314 Q1523.01 67.4314 1526.5 62.7323 Q1529.98 58.0333 1529.98 49.9314 Q1529.98 41.8701 1526.5 37.1711 Q1523.01 32.4315 1517.06 32.4315 M1517.06 26.1121 Q1526.78 26.1121 1532.33 32.4315 Q1537.88 38.7509 1537.88 49.9314 Q1537.88 61.0714 1532.33 67.4314 Q1526.78 73.7508 1517.06 73.7508 Q1507.3 73.7508 1501.75 67.4314 Q1496.24 61.0714 1496.24 49.9314 Q1496.24 38.7509 1501.75 32.4315 Q1507.3 26.1121 1517.06 26.1121 Z\" fill=\"#000000\" fill-rule=\"nonzero\" fill-opacity=\"1\" /><path clip-path=\"url(#clip430)\" d=\"M1585.56 35.9153 Q1588.36 30.8922 1592.24 28.5022 Q1596.13 26.1121 1601.4 26.1121 Q1608.49 26.1121 1612.34 31.0947 Q1616.18 36.0368 1616.18 45.1919 L1616.18 72.576 L1608.69 72.576 L1608.69 45.4349 Q1608.69 38.913 1606.38 35.7533 Q1604.07 32.5936 1599.33 32.5936 Q1593.54 32.5936 1590.18 36.4419 Q1586.82 40.2903 1586.82 46.9338 L1586.82 72.576 L1579.32 72.576 L1579.32 45.4349 Q1579.32 38.8725 1577.01 35.7533 Q1574.7 32.5936 1569.88 32.5936 Q1564.17 32.5936 1560.81 36.4824 Q1557.45 40.3308 1557.45 46.9338 L1557.45 72.576 L1549.95 72.576 L1549.95 27.2059 L1557.45 27.2059 L1557.45 34.2544 Q1560 30.082 1563.56 28.0971 Q1567.13 26.1121 1572.03 26.1121 Q1576.97 26.1121 1580.42 28.6237 Q1583.9 31.1352 1585.56 35.9153 Z\" fill=\"#000000\" fill-rule=\"nonzero\" fill-opacity=\"1\" /><path clip-path=\"url(#clip430)\" d=\"M1653.66 46.5287 L1675.49 46.5287 L1675.49 53.1722 L1653.66 53.1722 L1653.66 46.5287 Z\" fill=\"#000000\" fill-rule=\"nonzero\" fill-opacity=\"1\" /><path clip-path=\"url(#clip430)\" d=\"M1688.49 12.096 L1720.62 12.096 L1720.62 18.9825 L1695.99 18.9825 L1695.99 33.8088 Q1697.77 33.2012 1699.55 32.9176 Q1701.33 32.5936 1703.12 32.5936 Q1713.24 32.5936 1719.16 38.1433 Q1725.07 43.6931 1725.07 53.1722 Q1725.07 62.9348 1719 68.3631 Q1712.92 73.7508 1701.86 73.7508 Q1698.05 73.7508 1694.08 73.1026 Q1690.15 72.4545 1685.94 71.1582 L1685.94 62.9348 Q1689.59 64.9198 1693.48 65.892 Q1697.37 66.8642 1701.7 66.8642 Q1708.71 66.8642 1712.8 63.1779 Q1716.89 59.4916 1716.89 53.1722 Q1716.89 46.8528 1712.8 43.1664 Q1708.71 39.4801 1701.7 39.4801 Q1698.42 39.4801 1695.14 40.2093 Q1691.9 40.9384 1688.49 42.4778 L1688.49 12.096 Z\" fill=\"#000000\" fill-rule=\"nonzero\" fill-opacity=\"1\" /><path clip-path=\"url(#clip430)\" d=\"M1773.89 14.324 L1773.89 27.2059 L1789.24 27.2059 L1789.24 32.9987 L1773.89 32.9987 L1773.89 57.6282 Q1773.89 63.1779 1775.39 64.7578 Q1776.92 66.3376 1781.58 66.3376 L1789.24 66.3376 L1789.24 72.576 L1781.58 72.576 Q1772.95 72.576 1769.67 69.3758 Q1766.39 66.1351 1766.39 57.6282 L1766.39 32.9987 L1760.92 32.9987 L1760.92 27.2059 L1766.39 27.2059 L1766.39 14.324 L1773.89 14.324 Z\" fill=\"#000000\" fill-rule=\"nonzero\" fill-opacity=\"1\" /><path clip-path=\"url(#clip430)\" d=\"M1816.62 32.4315 Q1810.63 32.4315 1807.14 37.1306 Q1803.66 41.7891 1803.66 49.9314 Q1803.66 58.0738 1807.1 62.7728 Q1810.59 67.4314 1816.62 67.4314 Q1822.58 67.4314 1826.06 62.7323 Q1829.55 58.0333 1829.55 49.9314 Q1829.55 41.8701 1826.06 37.1711 Q1822.58 32.4315 1816.62 32.4315 M1816.62 26.1121 Q1826.35 26.1121 1831.9 32.4315 Q1837.45 38.7509 1837.45 49.9314 Q1837.45 61.0714 1831.9 67.4314 Q1826.35 73.7508 1816.62 73.7508 Q1806.86 73.7508 1801.31 67.4314 Q1795.8 61.0714 1795.8 49.9314 Q1795.8 38.7509 1801.31 32.4315 Q1806.86 26.1121 1816.62 26.1121 Z\" fill=\"#000000\" fill-rule=\"nonzero\" fill-opacity=\"1\" /><path clip-path=\"url(#clip430)\" d=\"M1877.31 12.096 L1909.43 12.096 L1909.43 18.9825 L1884.8 18.9825 L1884.8 33.8088 Q1886.58 33.2012 1888.37 32.9176 Q1890.15 32.5936 1891.93 32.5936 Q1902.06 32.5936 1907.97 38.1433 Q1913.89 43.6931 1913.89 53.1722 Q1913.89 62.9348 1907.81 68.3631 Q1901.73 73.7508 1890.67 73.7508 Q1886.87 73.7508 1882.9 73.1026 Q1878.97 72.4545 1874.75 71.1582 L1874.75 62.9348 Q1878.4 64.9198 1882.29 65.892 Q1886.18 66.8642 1890.51 66.8642 Q1897.52 66.8642 1901.61 63.1779 Q1905.7 59.4916 1905.7 53.1722 Q1905.7 46.8528 1901.61 43.1664 Q1897.52 39.4801 1890.51 39.4801 Q1887.23 39.4801 1883.95 40.2093 Q1880.71 40.9384 1877.31 42.4778 L1877.31 12.096 Z\" fill=\"#000000\" fill-rule=\"nonzero\" fill-opacity=\"1\" /><circle clip-path=\"url(#clip432)\" cx=\"264.778\" cy=\"160.256\" r=\"14.4\" fill=\"#009af9\" fill-rule=\"evenodd\" fill-opacity=\"1\" stroke=\"#000000\" stroke-opacity=\"1\" stroke-width=\"3.2\"/>\n",
              "<circle clip-path=\"url(#clip432)\" cx=\"467.495\" cy=\"601.666\" r=\"14.4\" fill=\"#009af9\" fill-rule=\"evenodd\" fill-opacity=\"1\" stroke=\"#000000\" stroke-opacity=\"1\" stroke-width=\"3.2\"/>\n",
              "<circle clip-path=\"url(#clip432)\" cx=\"670.211\" cy=\"944.985\" r=\"14.4\" fill=\"#009af9\" fill-rule=\"evenodd\" fill-opacity=\"1\" stroke=\"#000000\" stroke-opacity=\"1\" stroke-width=\"3.2\"/>\n",
              "<circle clip-path=\"url(#clip432)\" cx=\"872.927\" cy=\"1190.21\" r=\"14.4\" fill=\"#009af9\" fill-rule=\"evenodd\" fill-opacity=\"1\" stroke=\"#000000\" stroke-opacity=\"1\" stroke-width=\"3.2\"/>\n",
              "<circle clip-path=\"url(#clip432)\" cx=\"1075.64\" cy=\"1337.35\" r=\"14.4\" fill=\"#009af9\" fill-rule=\"evenodd\" fill-opacity=\"1\" stroke=\"#000000\" stroke-opacity=\"1\" stroke-width=\"3.2\"/>\n",
              "<circle clip-path=\"url(#clip432)\" cx=\"1278.36\" cy=\"1386.4\" r=\"14.4\" fill=\"#009af9\" fill-rule=\"evenodd\" fill-opacity=\"1\" stroke=\"#000000\" stroke-opacity=\"1\" stroke-width=\"3.2\"/>\n",
              "<circle clip-path=\"url(#clip432)\" cx=\"1481.08\" cy=\"1337.35\" r=\"14.4\" fill=\"#009af9\" fill-rule=\"evenodd\" fill-opacity=\"1\" stroke=\"#000000\" stroke-opacity=\"1\" stroke-width=\"3.2\"/>\n",
              "<circle clip-path=\"url(#clip432)\" cx=\"1683.79\" cy=\"1190.21\" r=\"14.4\" fill=\"#009af9\" fill-rule=\"evenodd\" fill-opacity=\"1\" stroke=\"#000000\" stroke-opacity=\"1\" stroke-width=\"3.2\"/>\n",
              "<circle clip-path=\"url(#clip432)\" cx=\"1886.51\" cy=\"944.985\" r=\"14.4\" fill=\"#009af9\" fill-rule=\"evenodd\" fill-opacity=\"1\" stroke=\"#000000\" stroke-opacity=\"1\" stroke-width=\"3.2\"/>\n",
              "<circle clip-path=\"url(#clip432)\" cx=\"2089.22\" cy=\"601.666\" r=\"14.4\" fill=\"#009af9\" fill-rule=\"evenodd\" fill-opacity=\"1\" stroke=\"#000000\" stroke-opacity=\"1\" stroke-width=\"3.2\"/>\n",
              "<circle clip-path=\"url(#clip432)\" cx=\"2291.94\" cy=\"160.256\" r=\"14.4\" fill=\"#009af9\" fill-rule=\"evenodd\" fill-opacity=\"1\" stroke=\"#000000\" stroke-opacity=\"1\" stroke-width=\"3.2\"/>\n",
              "<polyline clip-path=\"url(#clip432)\" style=\"stroke:#e26f46; stroke-linecap:round; stroke-linejoin:round; stroke-width:4; stroke-opacity:1; fill:none\" points=\"264.778,160.256 467.495,601.666 670.211,944.985 872.927,1190.21 1075.64,1337.35 1278.36,1386.4 1481.08,1337.35 1683.79,1190.21 1886.51,944.985 2089.22,601.666 2291.94,160.256 \"/>\n",
              "<path clip-path=\"url(#clip430)\" d=\"M1925.67 1379.86 L2281.13 1379.86 L2281.13 1276.18 L1925.67 1276.18  Z\" fill=\"#ffffff\" fill-rule=\"evenodd\" fill-opacity=\"1\"/>\n",
              "<polyline clip-path=\"url(#clip430)\" style=\"stroke:#000000; stroke-linecap:round; stroke-linejoin:round; stroke-width:4; stroke-opacity:1; fill:none\" points=\"1925.67,1379.86 2281.13,1379.86 2281.13,1276.18 1925.67,1276.18 1925.67,1379.86 \"/>\n",
              "<circle clip-path=\"url(#clip430)\" cx=\"2021.17\" cy=\"1328.02\" r=\"20.48\" fill=\"#009af9\" fill-rule=\"evenodd\" fill-opacity=\"1\" stroke=\"#000000\" stroke-opacity=\"1\" stroke-width=\"4.55111\"/>\n",
              "<path clip-path=\"url(#clip430)\" d=\"M2130.52 1347.7 Q2128.71 1352.33 2127 1353.75 Q2125.29 1355.16 2122.42 1355.16 L2119.01 1355.16 L2119.01 1351.59 L2121.51 1351.59 Q2123.27 1351.59 2124.25 1350.76 Q2125.22 1349.93 2126.4 1346.82 L2127.16 1344.88 L2116.68 1319.37 L2121.19 1319.37 L2129.29 1339.65 L2137.39 1319.37 L2141.91 1319.37 L2130.52 1347.7 Z\" fill=\"#000000\" fill-rule=\"nonzero\" fill-opacity=\"1\" /><path clip-path=\"url(#clip430)\" d=\"M2163.41 1323.77 L2193.09 1323.77 L2193.09 1327.66 L2163.41 1327.66 L2163.41 1323.77 M2163.41 1333.21 L2193.09 1333.21 L2193.09 1337.15 L2163.41 1337.15 L2163.41 1333.21 Z\" fill=\"#000000\" fill-rule=\"nonzero\" fill-opacity=\"1\" /><path clip-path=\"url(#clip430)\" d=\"M2239.2 1319.37 L2229.82 1331.99 L2239.68 1345.3 L2234.66 1345.3 L2227.12 1335.11 L2219.57 1345.3 L2214.55 1345.3 L2224.62 1331.73 L2215.4 1319.37 L2220.43 1319.37 L2227.3 1328.61 L2234.18 1319.37 L2239.2 1319.37 Z\" fill=\"#000000\" fill-rule=\"nonzero\" fill-opacity=\"1\" /><path clip-path=\"url(#clip430)\" d=\"M2247.44 1327.19 L2257.25 1327.19 L2257.25 1329.83 L2243.41 1329.83 L2243.41 1327.29 Q2244.2 1326.57 2245.66 1325.27 Q2253.62 1318.21 2253.62 1316.04 Q2253.62 1314.51 2252.42 1313.58 Q2251.21 1312.63 2249.24 1312.63 Q2248.04 1312.63 2246.63 1313.05 Q2245.22 1313.44 2243.55 1314.25 L2243.55 1311.41 Q2245.33 1310.76 2246.86 1310.44 Q2248.41 1310.11 2249.73 1310.11 Q2253.09 1310.11 2255.1 1311.64 Q2257.12 1313.17 2257.12 1315.67 Q2257.12 1318.88 2249.45 1325.46 Q2248.16 1326.57 2247.44 1327.19 Z\" fill=\"#000000\" fill-rule=\"nonzero\" fill-opacity=\"1\" /></svg>\n"
            ],
            "text/html": [
              "<?xml version=\"1.0\" encoding=\"utf-8\"?>\n",
              "<svg xmlns=\"http://www.w3.org/2000/svg\" xmlns:xlink=\"http://www.w3.org/1999/xlink\" width=\"600\" height=\"400\" viewBox=\"0 0 2400 1600\">\n",
              "<defs>\n",
              "  <clipPath id=\"clip480\">\n",
              "    <rect x=\"0\" y=\"0\" width=\"2400\" height=\"1600\"/>\n",
              "  </clipPath>\n",
              "</defs>\n",
              "<path clip-path=\"url(#clip480)\" d=\"M0 1600 L2400 1600 L2400 0 L0 0  Z\" fill=\"#ffffff\" fill-rule=\"evenodd\" fill-opacity=\"1\"/>\n",
              "<defs>\n",
              "  <clipPath id=\"clip481\">\n",
              "    <rect x=\"480\" y=\"0\" width=\"1681\" height=\"1600\"/>\n",
              "  </clipPath>\n",
              "</defs>\n",
              "<path clip-path=\"url(#clip480)\" d=\"M203.964 1423.18 L2352.76 1423.18 L2352.76 123.472 L203.964 123.472  Z\" fill=\"#ffffff\" fill-rule=\"evenodd\" fill-opacity=\"1\"/>\n",
              "<defs>\n",
              "  <clipPath id=\"clip482\">\n",
              "    <rect x=\"203\" y=\"123\" width=\"2150\" height=\"1301\"/>\n",
              "  </clipPath>\n",
              "</defs>\n",
              "<polyline clip-path=\"url(#clip482)\" style=\"stroke:#000000; stroke-linecap:round; stroke-linejoin:round; stroke-width:2; stroke-opacity:0.1; fill:none\" points=\"467.495,1423.18 467.495,123.472 \"/>\n",
              "<polyline clip-path=\"url(#clip482)\" style=\"stroke:#000000; stroke-linecap:round; stroke-linejoin:round; stroke-width:2; stroke-opacity:0.1; fill:none\" points=\"872.927,1423.18 872.927,123.472 \"/>\n",
              "<polyline clip-path=\"url(#clip482)\" style=\"stroke:#000000; stroke-linecap:round; stroke-linejoin:round; stroke-width:2; stroke-opacity:0.1; fill:none\" points=\"1278.36,1423.18 1278.36,123.472 \"/>\n",
              "<polyline clip-path=\"url(#clip482)\" style=\"stroke:#000000; stroke-linecap:round; stroke-linejoin:round; stroke-width:2; stroke-opacity:0.1; fill:none\" points=\"1683.79,1423.18 1683.79,123.472 \"/>\n",
              "<polyline clip-path=\"url(#clip482)\" style=\"stroke:#000000; stroke-linecap:round; stroke-linejoin:round; stroke-width:2; stroke-opacity:0.1; fill:none\" points=\"2089.22,1423.18 2089.22,123.472 \"/>\n",
              "<polyline clip-path=\"url(#clip482)\" style=\"stroke:#000000; stroke-linecap:round; stroke-linejoin:round; stroke-width:2; stroke-opacity:0.1; fill:none\" points=\"203.964,1386.4 2352.76,1386.4 \"/>\n",
              "<polyline clip-path=\"url(#clip482)\" style=\"stroke:#000000; stroke-linecap:round; stroke-linejoin:round; stroke-width:2; stroke-opacity:0.1; fill:none\" points=\"203.964,1141.17 2352.76,1141.17 \"/>\n",
              "<polyline clip-path=\"url(#clip482)\" style=\"stroke:#000000; stroke-linecap:round; stroke-linejoin:round; stroke-width:2; stroke-opacity:0.1; fill:none\" points=\"203.964,895.94 2352.76,895.94 \"/>\n",
              "<polyline clip-path=\"url(#clip482)\" style=\"stroke:#000000; stroke-linecap:round; stroke-linejoin:round; stroke-width:2; stroke-opacity:0.1; fill:none\" points=\"203.964,650.712 2352.76,650.712 \"/>\n",
              "<polyline clip-path=\"url(#clip482)\" style=\"stroke:#000000; stroke-linecap:round; stroke-linejoin:round; stroke-width:2; stroke-opacity:0.1; fill:none\" points=\"203.964,405.484 2352.76,405.484 \"/>\n",
              "<polyline clip-path=\"url(#clip482)\" style=\"stroke:#000000; stroke-linecap:round; stroke-linejoin:round; stroke-width:2; stroke-opacity:0.1; fill:none\" points=\"203.964,160.256 2352.76,160.256 \"/>\n",
              "<polyline clip-path=\"url(#clip480)\" style=\"stroke:#000000; stroke-linecap:round; stroke-linejoin:round; stroke-width:4; stroke-opacity:1; fill:none\" points=\"203.964,1423.18 2352.76,1423.18 \"/>\n",
              "<polyline clip-path=\"url(#clip480)\" style=\"stroke:#000000; stroke-linecap:round; stroke-linejoin:round; stroke-width:4; stroke-opacity:1; fill:none\" points=\"467.495,1423.18 467.495,1404.28 \"/>\n",
              "<polyline clip-path=\"url(#clip480)\" style=\"stroke:#000000; stroke-linecap:round; stroke-linejoin:round; stroke-width:4; stroke-opacity:1; fill:none\" points=\"872.927,1423.18 872.927,1404.28 \"/>\n",
              "<polyline clip-path=\"url(#clip480)\" style=\"stroke:#000000; stroke-linecap:round; stroke-linejoin:round; stroke-width:4; stroke-opacity:1; fill:none\" points=\"1278.36,1423.18 1278.36,1404.28 \"/>\n",
              "<polyline clip-path=\"url(#clip480)\" style=\"stroke:#000000; stroke-linecap:round; stroke-linejoin:round; stroke-width:4; stroke-opacity:1; fill:none\" points=\"1683.79,1423.18 1683.79,1404.28 \"/>\n",
              "<polyline clip-path=\"url(#clip480)\" style=\"stroke:#000000; stroke-linecap:round; stroke-linejoin:round; stroke-width:4; stroke-opacity:1; fill:none\" points=\"2089.22,1423.18 2089.22,1404.28 \"/>\n",
              "<path clip-path=\"url(#clip480)\" d=\"M436.395 1468.75 L466.071 1468.75 L466.071 1472.69 L436.395 1472.69 L436.395 1468.75 Z\" fill=\"#000000\" fill-rule=\"nonzero\" fill-opacity=\"1\" /><path clip-path=\"url(#clip480)\" d=\"M489.011 1455.09 L477.205 1473.54 L489.011 1473.54 L489.011 1455.09 M487.784 1451.02 L493.664 1451.02 L493.664 1473.54 L498.594 1473.54 L498.594 1477.43 L493.664 1477.43 L493.664 1485.58 L489.011 1485.58 L489.011 1477.43 L473.409 1477.43 L473.409 1472.92 L487.784 1451.02 Z\" fill=\"#000000\" fill-rule=\"nonzero\" fill-opacity=\"1\" /><path clip-path=\"url(#clip480)\" d=\"M842.87 1468.75 L872.545 1468.75 L872.545 1472.69 L842.87 1472.69 L842.87 1468.75 Z\" fill=\"#000000\" fill-rule=\"nonzero\" fill-opacity=\"1\" /><path clip-path=\"url(#clip480)\" d=\"M886.666 1481.64 L902.985 1481.64 L902.985 1485.58 L881.041 1485.58 L881.041 1481.64 Q883.703 1478.89 888.286 1474.26 Q892.892 1469.61 894.073 1468.27 Q896.318 1465.74 897.198 1464.01 Q898.101 1462.25 898.101 1460.56 Q898.101 1457.8 896.156 1456.07 Q894.235 1454.33 891.133 1454.33 Q888.934 1454.33 886.48 1455.09 Q884.05 1455.86 881.272 1457.41 L881.272 1452.69 Q884.096 1451.55 886.55 1450.97 Q889.004 1450.39 891.041 1450.39 Q896.411 1450.39 899.605 1453.08 Q902.8 1455.77 902.8 1460.26 Q902.8 1462.39 901.99 1464.31 Q901.203 1466.2 899.096 1468.8 Q898.517 1469.47 895.416 1472.69 Q892.314 1475.88 886.666 1481.64 Z\" fill=\"#000000\" fill-rule=\"nonzero\" fill-opacity=\"1\" /><path clip-path=\"url(#clip480)\" d=\"M1278.36 1454.1 Q1274.75 1454.1 1272.92 1457.66 Q1271.11 1461.2 1271.11 1468.33 Q1271.11 1475.44 1272.92 1479.01 Q1274.75 1482.55 1278.36 1482.55 Q1281.99 1482.55 1283.8 1479.01 Q1285.63 1475.44 1285.63 1468.33 Q1285.63 1461.2 1283.8 1457.66 Q1281.99 1454.1 1278.36 1454.1 M1278.36 1450.39 Q1284.17 1450.39 1287.23 1455 Q1290.3 1459.58 1290.3 1468.33 Q1290.3 1477.06 1287.23 1481.67 Q1284.17 1486.25 1278.36 1486.25 Q1272.55 1486.25 1269.47 1481.67 Q1266.42 1477.06 1266.42 1468.33 Q1266.42 1459.58 1269.47 1455 Q1272.55 1450.39 1278.36 1450.39 Z\" fill=\"#000000\" fill-rule=\"nonzero\" fill-opacity=\"1\" /><path clip-path=\"url(#clip480)\" d=\"M1678.45 1481.64 L1694.76 1481.64 L1694.76 1485.58 L1672.82 1485.58 L1672.82 1481.64 Q1675.48 1478.89 1680.07 1474.26 Q1684.67 1469.61 1685.85 1468.27 Q1688.1 1465.74 1688.98 1464.01 Q1689.88 1462.25 1689.88 1460.56 Q1689.88 1457.8 1687.94 1456.07 Q1686.01 1454.33 1682.91 1454.33 Q1680.71 1454.33 1678.26 1455.09 Q1675.83 1455.86 1673.05 1457.41 L1673.05 1452.69 Q1675.88 1451.55 1678.33 1450.97 Q1680.78 1450.39 1682.82 1450.39 Q1688.19 1450.39 1691.38 1453.08 Q1694.58 1455.77 1694.58 1460.26 Q1694.58 1462.39 1693.77 1464.31 Q1692.98 1466.2 1690.88 1468.8 Q1690.3 1469.47 1687.2 1472.69 Q1684.09 1475.88 1678.45 1481.64 Z\" fill=\"#000000\" fill-rule=\"nonzero\" fill-opacity=\"1\" /><path clip-path=\"url(#clip480)\" d=\"M2092.23 1455.09 L2080.43 1473.54 L2092.23 1473.54 L2092.23 1455.09 M2091.01 1451.02 L2096.89 1451.02 L2096.89 1473.54 L2101.82 1473.54 L2101.82 1477.43 L2096.89 1477.43 L2096.89 1485.58 L2092.23 1485.58 L2092.23 1477.43 L2076.63 1477.43 L2076.63 1472.92 L2091.01 1451.02 Z\" fill=\"#000000\" fill-rule=\"nonzero\" fill-opacity=\"1\" /><path clip-path=\"url(#clip480)\" d=\"M1294.97 1532.4 L1282.08 1549.74 L1295.64 1568.04 L1288.74 1568.04 L1278.36 1554.04 L1267.98 1568.04 L1261.08 1568.04 L1274.92 1549.39 L1262.25 1532.4 L1269.16 1532.4 L1278.61 1545.1 L1288.07 1532.4 L1294.97 1532.4 Z\" fill=\"#000000\" fill-rule=\"nonzero\" fill-opacity=\"1\" /><polyline clip-path=\"url(#clip480)\" style=\"stroke:#000000; stroke-linecap:round; stroke-linejoin:round; stroke-width:4; stroke-opacity:1; fill:none\" points=\"203.964,1423.18 203.964,123.472 \"/>\n",
              "<polyline clip-path=\"url(#clip480)\" style=\"stroke:#000000; stroke-linecap:round; stroke-linejoin:round; stroke-width:4; stroke-opacity:1; fill:none\" points=\"203.964,1386.4 222.861,1386.4 \"/>\n",
              "<polyline clip-path=\"url(#clip480)\" style=\"stroke:#000000; stroke-linecap:round; stroke-linejoin:round; stroke-width:4; stroke-opacity:1; fill:none\" points=\"203.964,1141.17 222.861,1141.17 \"/>\n",
              "<polyline clip-path=\"url(#clip480)\" style=\"stroke:#000000; stroke-linecap:round; stroke-linejoin:round; stroke-width:4; stroke-opacity:1; fill:none\" points=\"203.964,895.94 222.861,895.94 \"/>\n",
              "<polyline clip-path=\"url(#clip480)\" style=\"stroke:#000000; stroke-linecap:round; stroke-linejoin:round; stroke-width:4; stroke-opacity:1; fill:none\" points=\"203.964,650.712 222.861,650.712 \"/>\n",
              "<polyline clip-path=\"url(#clip480)\" style=\"stroke:#000000; stroke-linecap:round; stroke-linejoin:round; stroke-width:4; stroke-opacity:1; fill:none\" points=\"203.964,405.484 222.861,405.484 \"/>\n",
              "<polyline clip-path=\"url(#clip480)\" style=\"stroke:#000000; stroke-linecap:round; stroke-linejoin:round; stroke-width:4; stroke-opacity:1; fill:none\" points=\"203.964,160.256 222.861,160.256 \"/>\n",
              "<path clip-path=\"url(#clip480)\" d=\"M156.019 1372.19 Q152.408 1372.19 150.579 1375.76 Q148.774 1379.3 148.774 1386.43 Q148.774 1393.54 150.579 1397.1 Q152.408 1400.64 156.019 1400.64 Q159.653 1400.64 161.459 1397.1 Q163.288 1393.54 163.288 1386.43 Q163.288 1379.3 161.459 1375.76 Q159.653 1372.19 156.019 1372.19 M156.019 1368.49 Q161.829 1368.49 164.885 1373.1 Q167.964 1377.68 167.964 1386.43 Q167.964 1395.16 164.885 1399.76 Q161.829 1404.35 156.019 1404.35 Q150.209 1404.35 147.13 1399.76 Q144.075 1395.16 144.075 1386.43 Q144.075 1377.68 147.13 1373.1 Q150.209 1368.49 156.019 1368.49 Z\" fill=\"#000000\" fill-rule=\"nonzero\" fill-opacity=\"1\" /><path clip-path=\"url(#clip480)\" d=\"M147.061 1123.89 L165.417 1123.89 L165.417 1127.82 L151.343 1127.82 L151.343 1136.3 Q152.362 1135.95 153.38 1135.79 Q154.399 1135.6 155.417 1135.6 Q161.204 1135.6 164.584 1138.77 Q167.964 1141.94 167.964 1147.36 Q167.964 1152.94 164.491 1156.04 Q161.019 1159.12 154.7 1159.12 Q152.524 1159.12 150.255 1158.75 Q148.01 1158.38 145.603 1157.64 L145.603 1152.94 Q147.686 1154.07 149.908 1154.63 Q152.13 1155.18 154.607 1155.18 Q158.612 1155.18 160.95 1153.08 Q163.288 1150.97 163.288 1147.36 Q163.288 1143.75 160.95 1141.64 Q158.612 1139.54 154.607 1139.54 Q152.732 1139.54 150.857 1139.95 Q149.005 1140.37 147.061 1141.25 L147.061 1123.89 Z\" fill=\"#000000\" fill-rule=\"nonzero\" fill-opacity=\"1\" /><path clip-path=\"url(#clip480)\" d=\"M116.668 909.285 L124.306 909.285 L124.306 882.919 L115.996 884.586 L115.996 880.327 L124.26 878.66 L128.936 878.66 L128.936 909.285 L136.575 909.285 L136.575 913.22 L116.668 913.22 L116.668 909.285 Z\" fill=\"#000000\" fill-rule=\"nonzero\" fill-opacity=\"1\" /><path clip-path=\"url(#clip480)\" d=\"M156.019 881.739 Q152.408 881.739 150.579 885.303 Q148.774 888.845 148.774 895.975 Q148.774 903.081 150.579 906.646 Q152.408 910.188 156.019 910.188 Q159.653 910.188 161.459 906.646 Q163.288 903.081 163.288 895.975 Q163.288 888.845 161.459 885.303 Q159.653 881.739 156.019 881.739 M156.019 878.035 Q161.829 878.035 164.885 882.641 Q167.964 887.225 167.964 895.975 Q167.964 904.701 164.885 909.308 Q161.829 913.891 156.019 913.891 Q150.209 913.891 147.13 909.308 Q144.075 904.701 144.075 895.975 Q144.075 887.225 147.13 882.641 Q150.209 878.035 156.019 878.035 Z\" fill=\"#000000\" fill-rule=\"nonzero\" fill-opacity=\"1\" /><path clip-path=\"url(#clip480)\" d=\"M117.663 664.057 L125.302 664.057 L125.302 637.691 L116.992 639.358 L116.992 635.099 L125.255 633.432 L129.931 633.432 L129.931 664.057 L137.57 664.057 L137.57 667.992 L117.663 667.992 L117.663 664.057 Z\" fill=\"#000000\" fill-rule=\"nonzero\" fill-opacity=\"1\" /><path clip-path=\"url(#clip480)\" d=\"M147.061 633.432 L165.417 633.432 L165.417 637.367 L151.343 637.367 L151.343 645.839 Q152.362 645.492 153.38 645.33 Q154.399 645.145 155.417 645.145 Q161.204 645.145 164.584 648.316 Q167.964 651.488 167.964 656.904 Q167.964 662.483 164.491 665.585 Q161.019 668.663 154.7 668.663 Q152.524 668.663 150.255 668.293 Q148.01 667.923 145.603 667.182 L145.603 662.483 Q147.686 663.617 149.908 664.173 Q152.13 664.728 154.607 664.728 Q158.612 664.728 160.95 662.622 Q163.288 660.515 163.288 656.904 Q163.288 653.293 160.95 651.187 Q158.612 649.08 154.607 649.08 Q152.732 649.08 150.857 649.497 Q149.005 649.913 147.061 650.793 L147.061 633.432 Z\" fill=\"#000000\" fill-rule=\"nonzero\" fill-opacity=\"1\" /><path clip-path=\"url(#clip480)\" d=\"M119.885 418.829 L136.204 418.829 L136.204 422.764 L114.26 422.764 L114.26 418.829 Q116.922 416.074 121.505 411.445 Q126.112 406.792 127.292 405.449 Q129.538 402.926 130.417 401.19 Q131.32 399.431 131.32 397.741 Q131.32 394.987 129.376 393.25 Q127.455 391.514 124.353 391.514 Q122.154 391.514 119.7 392.278 Q117.269 393.042 114.492 394.593 L114.492 389.871 Q117.316 388.737 119.769 388.158 Q122.223 387.579 124.26 387.579 Q129.63 387.579 132.825 390.264 Q136.019 392.95 136.019 397.44 Q136.019 399.57 135.209 401.491 Q134.422 403.389 132.316 405.982 Q131.737 406.653 128.635 409.871 Q125.533 413.065 119.885 418.829 Z\" fill=\"#000000\" fill-rule=\"nonzero\" fill-opacity=\"1\" /><path clip-path=\"url(#clip480)\" d=\"M156.019 391.283 Q152.408 391.283 150.579 394.848 Q148.774 398.389 148.774 405.519 Q148.774 412.625 150.579 416.19 Q152.408 419.732 156.019 419.732 Q159.653 419.732 161.459 416.19 Q163.288 412.625 163.288 405.519 Q163.288 398.389 161.459 394.848 Q159.653 391.283 156.019 391.283 M156.019 387.579 Q161.829 387.579 164.885 392.186 Q167.964 396.769 167.964 405.519 Q167.964 414.246 164.885 418.852 Q161.829 423.435 156.019 423.435 Q150.209 423.435 147.13 418.852 Q144.075 414.246 144.075 405.519 Q144.075 396.769 147.13 392.186 Q150.209 387.579 156.019 387.579 Z\" fill=\"#000000\" fill-rule=\"nonzero\" fill-opacity=\"1\" /><path clip-path=\"url(#clip480)\" d=\"M120.88 173.601 L137.2 173.601 L137.2 177.536 L115.256 177.536 L115.256 173.601 Q117.918 170.847 122.501 166.217 Q127.107 161.564 128.288 160.222 Q130.533 157.698 131.413 155.962 Q132.316 154.203 132.316 152.513 Q132.316 149.759 130.371 148.023 Q128.45 146.286 125.348 146.286 Q123.149 146.286 120.695 147.05 Q118.265 147.814 115.487 149.365 L115.487 144.643 Q118.311 143.509 120.765 142.93 Q123.218 142.351 125.255 142.351 Q130.626 142.351 133.82 145.036 Q137.015 147.722 137.015 152.212 Q137.015 154.342 136.204 156.263 Q135.417 158.161 133.311 160.754 Q132.732 161.425 129.63 164.643 Q126.529 167.837 120.88 173.601 Z\" fill=\"#000000\" fill-rule=\"nonzero\" fill-opacity=\"1\" /><path clip-path=\"url(#clip480)\" d=\"M147.061 142.976 L165.417 142.976 L165.417 146.911 L151.343 146.911 L151.343 155.384 Q152.362 155.036 153.38 154.874 Q154.399 154.689 155.417 154.689 Q161.204 154.689 164.584 157.86 Q167.964 161.032 167.964 166.448 Q167.964 172.027 164.491 175.129 Q161.019 178.208 154.7 178.208 Q152.524 178.208 150.255 177.837 Q148.01 177.467 145.603 176.726 L145.603 172.027 Q147.686 173.161 149.908 173.717 Q152.13 174.272 154.607 174.272 Q158.612 174.272 160.95 172.166 Q163.288 170.059 163.288 166.448 Q163.288 162.837 160.95 160.731 Q158.612 158.624 154.607 158.624 Q152.732 158.624 150.857 159.041 Q149.005 159.458 147.061 160.337 L147.061 142.976 Z\" fill=\"#000000\" fill-rule=\"nonzero\" fill-opacity=\"1\" /><path clip-path=\"url(#clip480)\" d=\"M28.3562 896.9 L45.7028 909.791 L64.0042 896.232 L64.0042 903.139 L49.9996 913.515 L64.0042 923.891 L64.0042 930.798 L45.3526 916.952 L28.3562 929.62 L28.3562 922.713 L41.0558 913.26 L28.3562 903.807 L28.3562 896.9 Z\" fill=\"#000000\" fill-rule=\"nonzero\" fill-opacity=\"1\" /><path clip-path=\"url(#clip480)\" d=\"M29.4065 844.51 L34.9447 844.51 Q33.6716 846.993 33.035 849.667 Q32.3984 852.34 32.3984 855.205 Q32.3984 859.565 33.7352 861.762 Q35.072 863.926 37.7456 863.926 Q39.7826 863.926 40.9603 862.366 Q42.1061 860.807 43.1565 856.096 L43.6021 854.091 Q44.9389 847.852 47.3897 845.243 Q49.8086 842.601 54.1691 842.601 Q59.1344 842.601 62.0308 846.548 Q64.9272 850.462 64.9272 857.337 Q64.9272 860.202 64.3543 863.321 Q63.8132 866.409 62.6992 869.846 L56.6518 869.846 Q58.3387 866.6 59.198 863.448 Q60.0256 860.297 60.0256 857.21 Q60.0256 853.072 58.6251 850.844 Q57.1929 848.616 54.6147 848.616 Q52.2276 848.616 50.9545 850.24 Q49.6813 851.831 48.5037 857.274 L48.0262 859.311 Q46.8804 864.753 44.5251 867.172 Q42.138 869.591 38.0002 869.591 Q32.9713 869.591 30.2341 866.027 Q27.4968 862.462 27.4968 855.905 Q27.4968 852.659 27.9743 849.794 Q28.4517 846.929 29.4065 844.51 Z\" fill=\"#000000\" fill-rule=\"nonzero\" fill-opacity=\"1\" /><path clip-path=\"url(#clip480)\" d=\"M46.212 829.774 Q52.6732 829.774 56.3653 827.132 Q60.0256 824.459 60.0256 819.812 Q60.0256 815.165 56.3653 812.491 Q52.6732 809.817 46.212 809.817 Q39.7508 809.817 36.0905 812.491 Q32.3984 815.165 32.3984 819.812 Q32.3984 824.459 36.0905 827.132 Q39.7508 829.774 46.212 829.774 M58.657 809.817 Q61.8398 811.663 63.3994 814.496 Q64.9272 817.297 64.9272 821.244 Q64.9272 827.705 59.771 831.779 Q54.6147 835.821 46.212 835.821 Q37.8093 835.821 32.6531 831.779 Q27.4968 827.705 27.4968 821.244 Q27.4968 817.297 29.0564 814.496 Q30.5842 811.663 33.7671 809.817 L28.3562 809.817 L28.3562 803.961 L77.5631 803.961 L77.5631 809.817 L58.657 809.817 Z\" fill=\"#000000\" fill-rule=\"nonzero\" fill-opacity=\"1\" /><path clip-path=\"url(#clip480)\" d=\"M49.9359 792.503 L28.3562 792.503 L28.3562 786.646 L49.7131 786.646 Q54.7739 786.646 57.3202 784.673 Q59.8346 782.699 59.8346 778.753 Q59.8346 774.01 56.8109 771.273 Q53.7872 768.504 48.5673 768.504 L28.3562 768.504 L28.3562 762.648 L64.0042 762.648 L64.0042 768.504 L58.5296 768.504 Q61.7762 770.636 63.3676 773.469 Q64.9272 776.27 64.9272 779.994 Q64.9272 786.137 61.1078 789.32 Q57.2883 792.503 49.9359 792.503 M27.4968 777.766 L27.4968 777.766 Z\" fill=\"#000000\" fill-rule=\"nonzero\" fill-opacity=\"1\" /><path clip-path=\"url(#clip480)\" d=\"M46.0847 734.384 Q46.0847 741.482 47.7079 744.219 Q49.3312 746.956 53.2461 746.956 Q56.3653 746.956 58.2114 744.919 Q60.0256 742.85 60.0256 739.317 Q60.0256 734.447 56.5881 731.519 Q53.1188 728.559 47.3897 728.559 L46.0847 728.559 L46.0847 734.384 M43.6657 722.703 L64.0042 722.703 L64.0042 728.559 L58.5933 728.559 Q61.8398 730.564 63.3994 733.556 Q64.9272 736.548 64.9272 740.877 Q64.9272 746.351 61.8716 749.598 Q58.7843 752.812 53.6281 752.812 Q47.6125 752.812 44.5569 748.802 Q41.5014 744.76 41.5014 736.771 L41.5014 728.559 L40.9285 728.559 Q36.8862 728.559 34.6901 731.233 Q32.4621 733.875 32.4621 738.681 Q32.4621 741.736 33.1941 744.633 Q33.9262 747.529 35.3903 750.203 L29.9795 750.203 Q28.7381 746.988 28.1334 743.964 Q27.4968 740.94 27.4968 738.076 Q27.4968 730.342 31.5072 726.522 Q35.5176 722.703 43.6657 722.703 Z\" fill=\"#000000\" fill-rule=\"nonzero\" fill-opacity=\"1\" /><path clip-path=\"url(#clip480)\" d=\"M33.8307 689.983 Q33.2578 690.97 33.0032 692.147 Q32.7167 693.293 32.7167 694.694 Q32.7167 699.659 35.9632 702.332 Q39.1779 704.974 45.2253 704.974 L64.0042 704.974 L64.0042 710.862 L28.3562 710.862 L28.3562 704.974 L33.8944 704.974 Q30.6479 703.128 29.0883 700.168 Q27.4968 697.208 27.4968 692.975 Q27.4968 692.37 27.5923 691.638 Q27.656 690.906 27.8151 690.015 L33.8307 689.983 Z\" fill=\"#000000\" fill-rule=\"nonzero\" fill-opacity=\"1\" /><path clip-path=\"url(#clip480)\" d=\"M44.7161 654.781 L47.5806 654.781 L47.5806 681.708 Q53.6281 681.326 56.8109 678.079 Q59.9619 674.801 59.9619 668.976 Q59.9619 665.602 59.1344 662.451 Q58.3069 659.268 56.6518 656.149 L62.1899 656.149 Q63.5267 659.3 64.227 662.61 Q64.9272 665.921 64.9272 669.326 Q64.9272 677.856 59.9619 682.853 Q54.9967 687.819 46.5303 687.819 Q37.7774 687.819 32.6531 683.108 Q27.4968 678.366 27.4968 670.345 Q27.4968 663.152 32.1438 658.982 Q36.7589 654.781 44.7161 654.781 M42.9973 660.637 Q38.1912 660.701 35.3266 663.342 Q32.4621 665.952 32.4621 670.281 Q32.4621 675.183 35.2312 678.143 Q38.0002 681.071 43.0292 681.517 L42.9973 660.637 Z\" fill=\"#000000\" fill-rule=\"nonzero\" fill-opacity=\"1\" /><path clip-path=\"url(#clip480)\" d=\"M33.7671 621.711 L14.479 621.711 L14.479 615.854 L64.0042 615.854 L64.0042 621.711 L58.657 621.711 Q61.8398 623.557 63.3994 626.39 Q64.9272 629.19 64.9272 633.137 Q64.9272 639.598 59.771 643.672 Q54.6147 647.715 46.212 647.715 Q37.8093 647.715 32.6531 643.672 Q27.4968 639.598 27.4968 633.137 Q27.4968 629.19 29.0564 626.39 Q30.5842 623.557 33.7671 621.711 M46.212 641.667 Q52.6732 641.667 56.3653 639.025 Q60.0256 636.352 60.0256 631.705 Q60.0256 627.058 56.3653 624.384 Q52.6732 621.711 46.212 621.711 Q39.7508 621.711 36.0905 624.384 Q32.3984 627.058 32.3984 631.705 Q32.3984 636.352 36.0905 639.025 Q39.7508 641.667 46.212 641.667 Z\" fill=\"#000000\" fill-rule=\"nonzero\" fill-opacity=\"1\" /><path clip-path=\"url(#clip480)\" d=\"M681.763 14.0809 L681.763 22.0612 Q677.104 19.8332 672.972 18.7395 Q668.84 17.6457 664.992 17.6457 Q658.308 17.6457 654.662 20.2383 Q651.057 22.8309 651.057 27.611 Q651.057 31.6214 653.447 33.6873 Q655.878 35.7128 662.602 36.9686 L667.544 37.9813 Q676.699 39.7232 681.034 44.1387 Q685.409 48.5136 685.409 55.8863 Q685.409 64.6767 679.494 69.2137 Q673.621 73.7508 662.237 73.7508 Q657.944 73.7508 653.082 72.7785 Q648.262 71.8063 643.077 69.9024 L643.077 61.4765 Q648.059 64.2716 652.839 65.6895 Q657.619 67.1073 662.237 67.1073 Q669.246 67.1073 673.053 64.3527 Q676.861 61.598 676.861 56.4939 Q676.861 52.0379 674.107 49.5264 Q671.393 47.0148 665.154 45.759 L660.172 44.7868 Q651.016 42.9639 646.925 39.075 Q642.834 35.1862 642.834 28.2591 Q642.834 20.2383 648.464 15.6203 Q654.136 11.0023 664.06 11.0023 Q668.314 11.0023 672.729 11.7719 Q677.145 12.5416 681.763 14.0809 Z\" fill=\"#000000\" fill-rule=\"nonzero\" fill-opacity=\"1\" /><path clip-path=\"url(#clip480)\" d=\"M702.301 49.9314 Q702.301 58.1548 705.663 62.8538 Q709.066 67.5124 714.98 67.5124 Q720.895 67.5124 724.297 62.8538 Q727.7 58.1548 727.7 49.9314 Q727.7 41.7081 724.297 37.0496 Q720.895 32.3505 714.98 32.3505 Q709.066 32.3505 705.663 37.0496 Q702.301 41.7081 702.301 49.9314 M727.7 65.7705 Q725.351 69.8214 721.745 71.8063 Q718.18 73.7508 713.157 73.7508 Q704.934 73.7508 699.749 67.1883 Q694.604 60.6258 694.604 49.9314 Q694.604 39.2371 699.749 32.6746 Q704.934 26.1121 713.157 26.1121 Q718.18 26.1121 721.745 28.0971 Q725.351 30.0415 727.7 34.0924 L727.7 27.2059 L735.154 27.2059 L735.154 89.8329 L727.7 89.8329 L727.7 65.7705 Z\" fill=\"#000000\" fill-rule=\"nonzero\" fill-opacity=\"1\" /><path clip-path=\"url(#clip480)\" d=\"M749.737 54.671 L749.737 27.2059 L757.191 27.2059 L757.191 54.3874 Q757.191 60.8284 759.702 64.0691 Q762.214 67.2693 767.237 67.2693 Q773.273 67.2693 776.757 63.421 Q780.281 59.5726 780.281 52.9291 L780.281 27.2059 L787.734 27.2059 L787.734 72.576 L780.281 72.576 L780.281 65.6084 Q777.567 69.7404 773.961 71.7658 Q770.397 73.7508 765.657 73.7508 Q757.839 73.7508 753.788 68.8897 Q749.737 64.0286 749.737 54.671 M768.493 26.1121 L768.493 26.1121 Z\" fill=\"#000000\" fill-rule=\"nonzero\" fill-opacity=\"1\" /><path clip-path=\"url(#clip480)\" d=\"M823.707 49.7694 Q814.673 49.7694 811.189 51.8354 Q807.705 53.9013 807.705 58.8839 Q807.705 62.8538 810.298 65.2034 Q812.931 67.5124 817.428 67.5124 Q823.625 67.5124 827.352 63.1374 Q831.12 58.7219 831.12 51.4303 L831.12 49.7694 L823.707 49.7694 M838.573 46.6907 L838.573 72.576 L831.12 72.576 L831.12 65.6895 Q828.568 69.8214 824.76 71.8063 Q820.952 73.7508 815.443 73.7508 Q808.475 73.7508 804.343 69.8619 Q800.252 65.9325 800.252 59.3701 Q800.252 51.7138 805.356 47.825 Q810.501 43.9361 820.668 43.9361 L831.12 43.9361 L831.12 43.2069 Q831.12 38.0623 827.717 35.2672 Q824.355 32.4315 818.238 32.4315 Q814.349 32.4315 810.663 33.3632 Q806.976 34.295 803.574 36.1584 L803.574 29.2718 Q807.665 27.692 811.513 26.9223 Q815.362 26.1121 819.007 26.1121 Q828.851 26.1121 833.712 31.2163 Q838.573 36.3204 838.573 46.6907 Z\" fill=\"#000000\" fill-rule=\"nonzero\" fill-opacity=\"1\" /><path clip-path=\"url(#clip480)\" d=\"M880.217 34.1734 Q878.961 33.4443 877.462 33.1202 Q876.004 32.7556 874.221 32.7556 Q867.902 32.7556 864.499 36.8875 Q861.137 40.9789 861.137 48.6757 L861.137 72.576 L853.643 72.576 L853.643 27.2059 L861.137 27.2059 L861.137 34.2544 Q863.486 30.1225 867.254 28.1376 Q871.021 26.1121 876.409 26.1121 Q877.178 26.1121 878.11 26.2337 Q879.042 26.3147 880.176 26.5172 L880.217 34.1734 Z\" fill=\"#000000\" fill-rule=\"nonzero\" fill-opacity=\"1\" /><path clip-path=\"url(#clip480)\" d=\"M925.02 48.0275 L925.02 51.6733 L890.749 51.6733 Q891.235 59.3701 895.367 63.421 Q899.539 67.4314 906.953 67.4314 Q911.247 67.4314 915.257 66.3781 Q919.308 65.3249 923.278 63.2184 L923.278 70.267 Q919.267 71.9684 915.054 72.8596 Q910.841 73.7508 906.507 73.7508 Q895.651 73.7508 889.291 67.4314 Q882.971 61.1119 882.971 50.3365 Q882.971 39.1965 888.967 32.6746 Q895.002 26.1121 905.211 26.1121 Q914.366 26.1121 919.672 32.0264 Q925.02 37.9003 925.02 48.0275 M917.566 45.84 Q917.485 39.7232 914.123 36.0774 Q910.801 32.4315 905.292 32.4315 Q899.053 32.4315 895.286 35.9558 Q891.559 39.4801 890.992 45.8805 L917.566 45.84 Z\" fill=\"#000000\" fill-rule=\"nonzero\" fill-opacity=\"1\" /><path clip-path=\"url(#clip480)\" d=\"M981.206 32.4315 Q975.21 32.4315 971.727 37.1306 Q968.243 41.7891 968.243 49.9314 Q968.243 58.0738 971.686 62.7728 Q975.17 67.4314 981.206 67.4314 Q987.16 67.4314 990.644 62.7323 Q994.128 58.0333 994.128 49.9314 Q994.128 41.8701 990.644 37.1711 Q987.16 32.4315 981.206 32.4315 M981.206 26.1121 Q990.928 26.1121 996.478 32.4315 Q1002.03 38.7509 1002.03 49.9314 Q1002.03 61.0714 996.478 67.4314 Q990.928 73.7508 981.206 73.7508 Q971.443 73.7508 965.893 67.4314 Q960.384 61.0714 960.384 49.9314 Q960.384 38.7509 965.893 32.4315 Q971.443 26.1121 981.206 26.1121 Z\" fill=\"#000000\" fill-rule=\"nonzero\" fill-opacity=\"1\" /><path clip-path=\"url(#clip480)\" d=\"M1037.35 9.54393 L1037.35 15.7418 L1030.22 15.7418 Q1026.21 15.7418 1024.63 17.3622 Q1023.09 18.9825 1023.09 23.1955 L1023.09 27.2059 L1035.37 27.2059 L1035.37 32.9987 L1023.09 32.9987 L1023.09 72.576 L1015.6 72.576 L1015.6 32.9987 L1008.47 32.9987 L1008.47 27.2059 L1015.6 27.2059 L1015.6 24.0462 Q1015.6 16.471 1019.12 13.0277 Q1022.65 9.54393 1030.3 9.54393 L1037.35 9.54393 Z\" fill=\"#000000\" fill-rule=\"nonzero\" fill-opacity=\"1\" /><path clip-path=\"url(#clip480)\" d=\"M1070.29 12.096 L1078.47 12.096 L1078.47 72.576 L1070.29 72.576 L1070.29 12.096 Z\" fill=\"#000000\" fill-rule=\"nonzero\" fill-opacity=\"1\" /><path clip-path=\"url(#clip480)\" d=\"M1132.14 45.1919 L1132.14 72.576 L1124.69 72.576 L1124.69 45.4349 Q1124.69 38.994 1122.18 35.7938 Q1119.67 32.5936 1114.64 32.5936 Q1108.61 32.5936 1105.12 36.4419 Q1101.64 40.2903 1101.64 46.9338 L1101.64 72.576 L1094.14 72.576 L1094.14 27.2059 L1101.64 27.2059 L1101.64 34.2544 Q1104.31 30.163 1107.92 28.1376 Q1111.56 26.1121 1116.3 26.1121 Q1124.12 26.1121 1128.13 30.9732 Q1132.14 35.7938 1132.14 45.1919 Z\" fill=\"#000000\" fill-rule=\"nonzero\" fill-opacity=\"1\" /><path clip-path=\"url(#clip480)\" d=\"M1154.38 14.324 L1154.38 27.2059 L1169.73 27.2059 L1169.73 32.9987 L1154.38 32.9987 L1154.38 57.6282 Q1154.38 63.1779 1155.88 64.7578 Q1157.42 66.3376 1162.08 66.3376 L1169.73 66.3376 L1169.73 72.576 L1162.08 72.576 Q1153.45 72.576 1150.17 69.3758 Q1146.89 66.1351 1146.89 57.6282 L1146.89 32.9987 L1141.42 32.9987 L1141.42 27.2059 L1146.89 27.2059 L1146.89 14.324 L1154.38 14.324 Z\" fill=\"#000000\" fill-rule=\"nonzero\" fill-opacity=\"1\" /><path clip-path=\"url(#clip480)\" d=\"M1218.35 48.0275 L1218.35 51.6733 L1184.07 51.6733 Q1184.56 59.3701 1188.69 63.421 Q1192.87 67.4314 1200.28 67.4314 Q1204.57 67.4314 1208.58 66.3781 Q1212.63 65.3249 1216.6 63.2184 L1216.6 70.267 Q1212.59 71.9684 1208.38 72.8596 Q1204.17 73.7508 1199.83 73.7508 Q1188.98 73.7508 1182.62 67.4314 Q1176.3 61.1119 1176.3 50.3365 Q1176.3 39.1965 1182.29 32.6746 Q1188.33 26.1121 1198.54 26.1121 Q1207.69 26.1121 1213 32.0264 Q1218.35 37.9003 1218.35 48.0275 M1210.89 45.84 Q1210.81 39.7232 1207.45 36.0774 Q1204.13 32.4315 1198.62 32.4315 Q1192.38 32.4315 1188.61 35.9558 Q1184.89 39.4801 1184.32 45.8805 L1210.89 45.84 Z\" fill=\"#000000\" fill-rule=\"nonzero\" fill-opacity=\"1\" /><path clip-path=\"url(#clip480)\" d=\"M1260.43 49.3643 Q1260.43 41.2625 1257.07 36.8065 Q1253.75 32.3505 1247.71 32.3505 Q1241.72 32.3505 1238.36 36.8065 Q1235.04 41.2625 1235.04 49.3643 Q1235.04 57.4256 1238.36 61.8816 Q1241.72 66.3376 1247.71 66.3376 Q1253.75 66.3376 1257.07 61.8816 Q1260.43 57.4256 1260.43 49.3643 M1267.89 66.9452 Q1267.89 78.5308 1262.74 84.1616 Q1257.6 89.8329 1246.99 89.8329 Q1243.06 89.8329 1239.57 89.2252 Q1236.09 88.6581 1232.81 87.4428 L1232.81 80.1917 Q1236.09 81.9741 1239.29 82.8248 Q1242.49 83.6755 1245.81 83.6755 Q1253.14 83.6755 1256.79 79.8271 Q1260.43 76.0193 1260.43 68.282 L1260.43 64.5957 Q1258.13 68.6061 1254.52 70.5911 Q1250.91 72.576 1245.89 72.576 Q1237.55 72.576 1232.44 66.2161 Q1227.34 59.8562 1227.34 49.3643 Q1227.34 38.832 1232.44 32.472 Q1237.55 26.1121 1245.89 26.1121 Q1250.91 26.1121 1254.52 28.0971 Q1258.13 30.082 1260.43 34.0924 L1260.43 27.2059 L1267.89 27.2059 L1267.89 66.9452 Z\" fill=\"#000000\" fill-rule=\"nonzero\" fill-opacity=\"1\" /><path clip-path=\"url(#clip480)\" d=\"M1322.05 48.0275 L1322.05 51.6733 L1287.78 51.6733 Q1288.26 59.3701 1292.4 63.421 Q1296.57 67.4314 1303.98 67.4314 Q1308.28 67.4314 1312.29 66.3781 Q1316.34 65.3249 1320.31 63.2184 L1320.31 70.267 Q1316.3 71.9684 1312.08 72.8596 Q1307.87 73.7508 1303.54 73.7508 Q1292.68 73.7508 1286.32 67.4314 Q1280 61.1119 1280 50.3365 Q1280 39.1965 1286 32.6746 Q1292.03 26.1121 1302.24 26.1121 Q1311.39 26.1121 1316.7 32.0264 Q1322.05 37.9003 1322.05 48.0275 M1314.6 45.84 Q1314.51 39.7232 1311.15 36.0774 Q1307.83 32.4315 1302.32 32.4315 Q1296.08 32.4315 1292.32 35.9558 Q1288.59 39.4801 1288.02 45.8805 L1314.6 45.84 Z\" fill=\"#000000\" fill-rule=\"nonzero\" fill-opacity=\"1\" /><path clip-path=\"url(#clip480)\" d=\"M1360.57 34.1734 Q1359.32 33.4443 1357.82 33.1202 Q1356.36 32.7556 1354.58 32.7556 Q1348.26 32.7556 1344.86 36.8875 Q1341.49 40.9789 1341.49 48.6757 L1341.49 72.576 L1334 72.576 L1334 27.2059 L1341.49 27.2059 L1341.49 34.2544 Q1343.84 30.1225 1347.61 28.1376 Q1351.38 26.1121 1356.76 26.1121 Q1357.53 26.1121 1358.47 26.2337 Q1359.4 26.3147 1360.53 26.5172 L1360.57 34.1734 Z\" fill=\"#000000\" fill-rule=\"nonzero\" fill-opacity=\"1\" /><path clip-path=\"url(#clip480)\" d=\"M1397.31 28.5427 L1397.31 35.5912 Q1394.15 33.9709 1390.75 33.1607 Q1387.35 32.3505 1383.7 32.3505 Q1378.15 32.3505 1375.36 34.0519 Q1372.6 35.7533 1372.6 39.156 Q1372.6 41.7486 1374.59 43.2475 Q1376.57 44.7058 1382.57 46.0426 L1385.12 46.6097 Q1393.06 48.3111 1396.38 51.4303 Q1399.75 54.509 1399.75 60.0587 Q1399.75 66.3781 1394.72 70.0644 Q1389.74 73.7508 1380.99 73.7508 Q1377.34 73.7508 1373.37 73.0216 Q1369.44 72.3329 1365.07 70.9151 L1365.07 63.2184 Q1369.2 65.3654 1373.21 66.4591 Q1377.22 67.5124 1381.15 67.5124 Q1386.42 67.5124 1389.25 65.73 Q1392.09 63.9071 1392.09 60.6258 Q1392.09 57.5877 1390.02 55.9673 Q1388 54.3469 1381.07 52.8481 L1378.48 52.2405 Q1371.55 50.7821 1368.47 47.7845 Q1365.39 44.7463 1365.39 39.4801 Q1365.39 33.0797 1369.93 29.5959 Q1374.47 26.1121 1382.81 26.1121 Q1386.94 26.1121 1390.59 26.7198 Q1394.24 27.3274 1397.31 28.5427 Z\" fill=\"#000000\" fill-rule=\"nonzero\" fill-opacity=\"1\" /><path clip-path=\"url(#clip480)\" d=\"M1460.95 9.54393 L1460.95 15.7418 L1453.82 15.7418 Q1449.81 15.7418 1448.23 17.3622 Q1446.7 18.9825 1446.7 23.1955 L1446.7 27.2059 L1458.97 27.2059 L1458.97 32.9987 L1446.7 32.9987 L1446.7 72.576 L1439.2 72.576 L1439.2 32.9987 L1432.07 32.9987 L1432.07 27.2059 L1439.2 27.2059 L1439.2 24.0462 Q1439.2 16.471 1442.73 13.0277 Q1446.25 9.54393 1453.91 9.54393 L1460.95 9.54393 Z\" fill=\"#000000\" fill-rule=\"nonzero\" fill-opacity=\"1\" /><path clip-path=\"url(#clip480)\" d=\"M1493.48 34.1734 Q1492.23 33.4443 1490.73 33.1202 Q1489.27 32.7556 1487.49 32.7556 Q1481.17 32.7556 1477.77 36.8875 Q1474.4 40.9789 1474.4 48.6757 L1474.4 72.576 L1466.91 72.576 L1466.91 27.2059 L1474.4 27.2059 L1474.4 34.2544 Q1476.75 30.1225 1480.52 28.1376 Q1484.29 26.1121 1489.68 26.1121 Q1490.44 26.1121 1491.38 26.2337 Q1492.31 26.3147 1493.44 26.5172 L1493.48 34.1734 Z\" fill=\"#000000\" fill-rule=\"nonzero\" fill-opacity=\"1\" /><path clip-path=\"url(#clip480)\" d=\"M1517.06 32.4315 Q1511.06 32.4315 1507.58 37.1306 Q1504.1 41.7891 1504.1 49.9314 Q1504.1 58.0738 1507.54 62.7728 Q1511.02 67.4314 1517.06 67.4314 Q1523.01 67.4314 1526.5 62.7323 Q1529.98 58.0333 1529.98 49.9314 Q1529.98 41.8701 1526.5 37.1711 Q1523.01 32.4315 1517.06 32.4315 M1517.06 26.1121 Q1526.78 26.1121 1532.33 32.4315 Q1537.88 38.7509 1537.88 49.9314 Q1537.88 61.0714 1532.33 67.4314 Q1526.78 73.7508 1517.06 73.7508 Q1507.3 73.7508 1501.75 67.4314 Q1496.24 61.0714 1496.24 49.9314 Q1496.24 38.7509 1501.75 32.4315 Q1507.3 26.1121 1517.06 26.1121 Z\" fill=\"#000000\" fill-rule=\"nonzero\" fill-opacity=\"1\" /><path clip-path=\"url(#clip480)\" d=\"M1585.56 35.9153 Q1588.36 30.8922 1592.24 28.5022 Q1596.13 26.1121 1601.4 26.1121 Q1608.49 26.1121 1612.34 31.0947 Q1616.18 36.0368 1616.18 45.1919 L1616.18 72.576 L1608.69 72.576 L1608.69 45.4349 Q1608.69 38.913 1606.38 35.7533 Q1604.07 32.5936 1599.33 32.5936 Q1593.54 32.5936 1590.18 36.4419 Q1586.82 40.2903 1586.82 46.9338 L1586.82 72.576 L1579.32 72.576 L1579.32 45.4349 Q1579.32 38.8725 1577.01 35.7533 Q1574.7 32.5936 1569.88 32.5936 Q1564.17 32.5936 1560.81 36.4824 Q1557.45 40.3308 1557.45 46.9338 L1557.45 72.576 L1549.95 72.576 L1549.95 27.2059 L1557.45 27.2059 L1557.45 34.2544 Q1560 30.082 1563.56 28.0971 Q1567.13 26.1121 1572.03 26.1121 Q1576.97 26.1121 1580.42 28.6237 Q1583.9 31.1352 1585.56 35.9153 Z\" fill=\"#000000\" fill-rule=\"nonzero\" fill-opacity=\"1\" /><path clip-path=\"url(#clip480)\" d=\"M1653.66 46.5287 L1675.49 46.5287 L1675.49 53.1722 L1653.66 53.1722 L1653.66 46.5287 Z\" fill=\"#000000\" fill-rule=\"nonzero\" fill-opacity=\"1\" /><path clip-path=\"url(#clip480)\" d=\"M1688.49 12.096 L1720.62 12.096 L1720.62 18.9825 L1695.99 18.9825 L1695.99 33.8088 Q1697.77 33.2012 1699.55 32.9176 Q1701.33 32.5936 1703.12 32.5936 Q1713.24 32.5936 1719.16 38.1433 Q1725.07 43.6931 1725.07 53.1722 Q1725.07 62.9348 1719 68.3631 Q1712.92 73.7508 1701.86 73.7508 Q1698.05 73.7508 1694.08 73.1026 Q1690.15 72.4545 1685.94 71.1582 L1685.94 62.9348 Q1689.59 64.9198 1693.48 65.892 Q1697.37 66.8642 1701.7 66.8642 Q1708.71 66.8642 1712.8 63.1779 Q1716.89 59.4916 1716.89 53.1722 Q1716.89 46.8528 1712.8 43.1664 Q1708.71 39.4801 1701.7 39.4801 Q1698.42 39.4801 1695.14 40.2093 Q1691.9 40.9384 1688.49 42.4778 L1688.49 12.096 Z\" fill=\"#000000\" fill-rule=\"nonzero\" fill-opacity=\"1\" /><path clip-path=\"url(#clip480)\" d=\"M1773.89 14.324 L1773.89 27.2059 L1789.24 27.2059 L1789.24 32.9987 L1773.89 32.9987 L1773.89 57.6282 Q1773.89 63.1779 1775.39 64.7578 Q1776.92 66.3376 1781.58 66.3376 L1789.24 66.3376 L1789.24 72.576 L1781.58 72.576 Q1772.95 72.576 1769.67 69.3758 Q1766.39 66.1351 1766.39 57.6282 L1766.39 32.9987 L1760.92 32.9987 L1760.92 27.2059 L1766.39 27.2059 L1766.39 14.324 L1773.89 14.324 Z\" fill=\"#000000\" fill-rule=\"nonzero\" fill-opacity=\"1\" /><path clip-path=\"url(#clip480)\" d=\"M1816.62 32.4315 Q1810.63 32.4315 1807.14 37.1306 Q1803.66 41.7891 1803.66 49.9314 Q1803.66 58.0738 1807.1 62.7728 Q1810.59 67.4314 1816.62 67.4314 Q1822.58 67.4314 1826.06 62.7323 Q1829.55 58.0333 1829.55 49.9314 Q1829.55 41.8701 1826.06 37.1711 Q1822.58 32.4315 1816.62 32.4315 M1816.62 26.1121 Q1826.35 26.1121 1831.9 32.4315 Q1837.45 38.7509 1837.45 49.9314 Q1837.45 61.0714 1831.9 67.4314 Q1826.35 73.7508 1816.62 73.7508 Q1806.86 73.7508 1801.31 67.4314 Q1795.8 61.0714 1795.8 49.9314 Q1795.8 38.7509 1801.31 32.4315 Q1806.86 26.1121 1816.62 26.1121 Z\" fill=\"#000000\" fill-rule=\"nonzero\" fill-opacity=\"1\" /><path clip-path=\"url(#clip480)\" d=\"M1877.31 12.096 L1909.43 12.096 L1909.43 18.9825 L1884.8 18.9825 L1884.8 33.8088 Q1886.58 33.2012 1888.37 32.9176 Q1890.15 32.5936 1891.93 32.5936 Q1902.06 32.5936 1907.97 38.1433 Q1913.89 43.6931 1913.89 53.1722 Q1913.89 62.9348 1907.81 68.3631 Q1901.73 73.7508 1890.67 73.7508 Q1886.87 73.7508 1882.9 73.1026 Q1878.97 72.4545 1874.75 71.1582 L1874.75 62.9348 Q1878.4 64.9198 1882.29 65.892 Q1886.18 66.8642 1890.51 66.8642 Q1897.52 66.8642 1901.61 63.1779 Q1905.7 59.4916 1905.7 53.1722 Q1905.7 46.8528 1901.61 43.1664 Q1897.52 39.4801 1890.51 39.4801 Q1887.23 39.4801 1883.95 40.2093 Q1880.71 40.9384 1877.31 42.4778 L1877.31 12.096 Z\" fill=\"#000000\" fill-rule=\"nonzero\" fill-opacity=\"1\" /><circle clip-path=\"url(#clip482)\" cx=\"264.778\" cy=\"160.256\" r=\"14.4\" fill=\"#009af9\" fill-rule=\"evenodd\" fill-opacity=\"1\" stroke=\"#000000\" stroke-opacity=\"1\" stroke-width=\"3.2\"/>\n",
              "<circle clip-path=\"url(#clip482)\" cx=\"467.495\" cy=\"601.666\" r=\"14.4\" fill=\"#009af9\" fill-rule=\"evenodd\" fill-opacity=\"1\" stroke=\"#000000\" stroke-opacity=\"1\" stroke-width=\"3.2\"/>\n",
              "<circle clip-path=\"url(#clip482)\" cx=\"670.211\" cy=\"944.985\" r=\"14.4\" fill=\"#009af9\" fill-rule=\"evenodd\" fill-opacity=\"1\" stroke=\"#000000\" stroke-opacity=\"1\" stroke-width=\"3.2\"/>\n",
              "<circle clip-path=\"url(#clip482)\" cx=\"872.927\" cy=\"1190.21\" r=\"14.4\" fill=\"#009af9\" fill-rule=\"evenodd\" fill-opacity=\"1\" stroke=\"#000000\" stroke-opacity=\"1\" stroke-width=\"3.2\"/>\n",
              "<circle clip-path=\"url(#clip482)\" cx=\"1075.64\" cy=\"1337.35\" r=\"14.4\" fill=\"#009af9\" fill-rule=\"evenodd\" fill-opacity=\"1\" stroke=\"#000000\" stroke-opacity=\"1\" stroke-width=\"3.2\"/>\n",
              "<circle clip-path=\"url(#clip482)\" cx=\"1278.36\" cy=\"1386.4\" r=\"14.4\" fill=\"#009af9\" fill-rule=\"evenodd\" fill-opacity=\"1\" stroke=\"#000000\" stroke-opacity=\"1\" stroke-width=\"3.2\"/>\n",
              "<circle clip-path=\"url(#clip482)\" cx=\"1481.08\" cy=\"1337.35\" r=\"14.4\" fill=\"#009af9\" fill-rule=\"evenodd\" fill-opacity=\"1\" stroke=\"#000000\" stroke-opacity=\"1\" stroke-width=\"3.2\"/>\n",
              "<circle clip-path=\"url(#clip482)\" cx=\"1683.79\" cy=\"1190.21\" r=\"14.4\" fill=\"#009af9\" fill-rule=\"evenodd\" fill-opacity=\"1\" stroke=\"#000000\" stroke-opacity=\"1\" stroke-width=\"3.2\"/>\n",
              "<circle clip-path=\"url(#clip482)\" cx=\"1886.51\" cy=\"944.985\" r=\"14.4\" fill=\"#009af9\" fill-rule=\"evenodd\" fill-opacity=\"1\" stroke=\"#000000\" stroke-opacity=\"1\" stroke-width=\"3.2\"/>\n",
              "<circle clip-path=\"url(#clip482)\" cx=\"2089.22\" cy=\"601.666\" r=\"14.4\" fill=\"#009af9\" fill-rule=\"evenodd\" fill-opacity=\"1\" stroke=\"#000000\" stroke-opacity=\"1\" stroke-width=\"3.2\"/>\n",
              "<circle clip-path=\"url(#clip482)\" cx=\"2291.94\" cy=\"160.256\" r=\"14.4\" fill=\"#009af9\" fill-rule=\"evenodd\" fill-opacity=\"1\" stroke=\"#000000\" stroke-opacity=\"1\" stroke-width=\"3.2\"/>\n",
              "<polyline clip-path=\"url(#clip482)\" style=\"stroke:#e26f46; stroke-linecap:round; stroke-linejoin:round; stroke-width:4; stroke-opacity:1; fill:none\" points=\"264.778,160.256 467.495,601.666 670.211,944.985 872.927,1190.21 1075.64,1337.35 1278.36,1386.4 1481.08,1337.35 1683.79,1190.21 1886.51,944.985 2089.22,601.666 2291.94,160.256 \"/>\n",
              "<path clip-path=\"url(#clip480)\" d=\"M1925.67 1379.86 L2281.13 1379.86 L2281.13 1276.18 L1925.67 1276.18  Z\" fill=\"#ffffff\" fill-rule=\"evenodd\" fill-opacity=\"1\"/>\n",
              "<polyline clip-path=\"url(#clip480)\" style=\"stroke:#000000; stroke-linecap:round; stroke-linejoin:round; stroke-width:4; stroke-opacity:1; fill:none\" points=\"1925.67,1379.86 2281.13,1379.86 2281.13,1276.18 1925.67,1276.18 1925.67,1379.86 \"/>\n",
              "<circle clip-path=\"url(#clip480)\" cx=\"2021.17\" cy=\"1328.02\" r=\"20.48\" fill=\"#009af9\" fill-rule=\"evenodd\" fill-opacity=\"1\" stroke=\"#000000\" stroke-opacity=\"1\" stroke-width=\"4.55111\"/>\n",
              "<path clip-path=\"url(#clip480)\" d=\"M2130.52 1347.7 Q2128.71 1352.33 2127 1353.75 Q2125.29 1355.16 2122.42 1355.16 L2119.01 1355.16 L2119.01 1351.59 L2121.51 1351.59 Q2123.27 1351.59 2124.25 1350.76 Q2125.22 1349.93 2126.4 1346.82 L2127.16 1344.88 L2116.68 1319.37 L2121.19 1319.37 L2129.29 1339.65 L2137.39 1319.37 L2141.91 1319.37 L2130.52 1347.7 Z\" fill=\"#000000\" fill-rule=\"nonzero\" fill-opacity=\"1\" /><path clip-path=\"url(#clip480)\" d=\"M2163.41 1323.77 L2193.09 1323.77 L2193.09 1327.66 L2163.41 1327.66 L2163.41 1323.77 M2163.41 1333.21 L2193.09 1333.21 L2193.09 1337.15 L2163.41 1337.15 L2163.41 1333.21 Z\" fill=\"#000000\" fill-rule=\"nonzero\" fill-opacity=\"1\" /><path clip-path=\"url(#clip480)\" d=\"M2239.2 1319.37 L2229.82 1331.99 L2239.68 1345.3 L2234.66 1345.3 L2227.12 1335.11 L2219.57 1345.3 L2214.55 1345.3 L2224.62 1331.73 L2215.4 1319.37 L2220.43 1319.37 L2227.3 1328.61 L2234.18 1319.37 L2239.2 1319.37 Z\" fill=\"#000000\" fill-rule=\"nonzero\" fill-opacity=\"1\" /><path clip-path=\"url(#clip480)\" d=\"M2247.44 1327.19 L2257.25 1327.19 L2257.25 1329.83 L2243.41 1329.83 L2243.41 1327.29 Q2244.2 1326.57 2245.66 1325.27 Q2253.62 1318.21 2253.62 1316.04 Q2253.62 1314.51 2252.42 1313.58 Q2251.21 1312.63 2249.24 1312.63 Q2248.04 1312.63 2246.63 1313.05 Q2245.22 1313.44 2243.55 1314.25 L2243.55 1311.41 Q2245.33 1310.76 2246.86 1310.44 Q2248.41 1310.11 2249.73 1310.11 Q2253.09 1310.11 2255.1 1311.64 Q2257.12 1313.17 2257.12 1315.67 Q2257.12 1318.88 2249.45 1325.46 Q2248.16 1326.57 2247.44 1327.19 Z\" fill=\"#000000\" fill-rule=\"nonzero\" fill-opacity=\"1\" /></svg>\n"
            ]
          },
          "metadata": {},
          "output_type": "display_data"
        }
      ],
      "source": [
        "# insert your code here\n",
        "using Plots\n",
        "\n",
        "# function to compute square\n",
        "square(x::Int) = x^2\n",
        "\n",
        "# evaluate for integers -5 to 5\n",
        "xs = -5:5\n",
        "ys = square.(xs)   # dot call applies square to each element\n",
        "\n",
        "# make plot\n",
        "plot(xs, ys,\n",
        "     seriestype = :scatter,   # points\n",
        "     label = \"y = x²\",\n",
        "     xlabel = \"x\",\n",
        "     ylabel = \"x squared\",\n",
        "     title = \"Square of Integers from -5 to 5\")\n",
        "plot!(xs, ys, seriestype = :line, label = \"\")  # connect points with line\n"
      ]
    },
    {
      "cell_type": "markdown",
      "id": "c43a0a75-e1c8-4cdd-a8b2-be7bb1318c4e",
      "metadata": {},
      "source": [
        "## Commit and Push Your Changes to GitHub\n",
        "\n",
        "After completing the previous two exercises, commit your solution file\n",
        "(notebook or otherwise) and push to GitHub. Use an informative commit\n",
        "message which makes it clear what changes you’ve made. The specific\n",
        "workflow for this will vary depending on how you’re writing up your\n",
        "solutions; please search for specifics and ask for help as needed!\n",
        "\n",
        "> **Useful Commit Sizes**\n",
        ">\n",
        "> Ideally, you’d commit whenever you make a “substantial” enough change\n",
        "> that you want to lock in, such as writing the core code for a problem\n",
        "> or completing a problem, if you’re preparing code to be used elsewhere\n",
        "> (by yourself or others), or if you want to ask for help. `git` lets\n",
        "> you revert changes back to a previous commit, so it’s easy to undo\n",
        "> changes or updates which broke something that was previously working,\n",
        "> so changing too many things at once can make it hard to keep track of\n",
        "> what worked when.\n",
        ">\n",
        "> But in this case, go ahead and just commit after finishing the\n",
        "> problems.\n",
        "\n",
        "Push the repository with these commits to GitHub and take a screenshot\n",
        "of the repository page\n",
        "(`https://github.com/BEE4750-FA25/<username>/lab01`) which shows the\n",
        "updated repository. Include that screenshot in your submission as the\n",
        "solution to this problem.\n",
        "\n",
        "## Submitting PDF\n",
        "\n",
        "> **Important**\n",
        ">\n",
        "> These submission instructions will not be repeated on future\n",
        "> assignments!\n",
        "\n",
        "Export your writeup as a PDF (this doesn’t have to be a notebook if\n",
        "you’re struggling to export: you can do your writeup in *e.g.* Microsoft\n",
        "Word) and submit it to the “Lab 1” assignment on Gradescope. **Make sure\n",
        "that you tag pages corresponding to relevant problems to avoid a 10%\n",
        "penalty**.\n",
        "\n",
        "> **Printing Code to PDF**\n",
        ">\n",
        "> You are not required to submit your code when submitting assignments.\n",
        "> However, when printing a notebook to PDF (whether you do this locally\n",
        "> or via the GitHub Action), long lines will run off the edge of code\n",
        "> cells, which may result in comments or code being hidden. If you see\n",
        "> this, go back to the notebook and break up long lines into shorter\n",
        "> onces (for example, see the comment in the above code cell) to ensure\n",
        "> key parts of your results aren’t missing."
      ]
    },
    {
      "cell_type": "markdown",
      "id": "836ded6e",
      "metadata": {},
      "source": []
    }
  ],
  "metadata": {
    "kernel_info": {
      "name": "julia"
    },
    "kernelspec": {
      "display_name": "Julia 1.11.6",
      "language": "julia",
      "name": "julia-1.11"
    },
    "language_info": {
      "file_extension": ".jl",
      "mimetype": "application/julia",
      "name": "julia",
      "version": "1.11.6"
    }
  },
  "nbformat": 4,
  "nbformat_minor": 5
}
